{
  "cells": [
    {
      "cell_type": "markdown",
      "metadata": {
        "id": "view-in-github",
        "colab_type": "text"
      },
      "source": [
        "<a href=\"https://colab.research.google.com/github/GitAIwithMike/ATC-Models/blob/main/atc_models.ipynb\" target=\"_parent\"><img src=\"https://colab.research.google.com/assets/colab-badge.svg\" alt=\"Open In Colab\"/></a>"
      ]
    },
    {
      "cell_type": "code",
      "source": [
        "# Clone the repository\n",
        "!git clone https://github.com/GitAIwithMike/ATC-Models.git\n",
        "%cd ATC-Models\n",
        "\n",
        "# Install the required libraries\n",
        "!pip install torch transformers datasets librosa pydub\n"
      ],
      "metadata": {
        "id": "mb34vgNX5Gfd",
        "outputId": "357f3fb2-9570-4867-9d60-af4547c9278c",
        "colab": {
          "base_uri": "https://localhost:8080/"
        }
      },
      "execution_count": 1,
      "outputs": [
        {
          "output_type": "stream",
          "name": "stdout",
          "text": [
            "fatal: destination path 'ATC-Models' already exists and is not an empty directory.\n",
            "/content/ATC-Models\n",
            "Requirement already satisfied: torch in /usr/local/lib/python3.10/dist-packages (2.5.1+cu121)\n",
            "Requirement already satisfied: transformers in /usr/local/lib/python3.10/dist-packages (4.46.3)\n",
            "Requirement already satisfied: datasets in /usr/local/lib/python3.10/dist-packages (3.1.0)\n",
            "Requirement already satisfied: librosa in /usr/local/lib/python3.10/dist-packages (0.10.2.post1)\n",
            "Requirement already satisfied: pydub in /usr/local/lib/python3.10/dist-packages (0.25.1)\n",
            "Requirement already satisfied: filelock in /usr/local/lib/python3.10/dist-packages (from torch) (3.16.1)\n",
            "Requirement already satisfied: typing-extensions>=4.8.0 in /usr/local/lib/python3.10/dist-packages (from torch) (4.12.2)\n",
            "Requirement already satisfied: networkx in /usr/local/lib/python3.10/dist-packages (from torch) (3.4.2)\n",
            "Requirement already satisfied: jinja2 in /usr/local/lib/python3.10/dist-packages (from torch) (3.1.4)\n",
            "Requirement already satisfied: fsspec in /usr/local/lib/python3.10/dist-packages (from torch) (2024.9.0)\n",
            "Requirement already satisfied: sympy==1.13.1 in /usr/local/lib/python3.10/dist-packages (from torch) (1.13.1)\n",
            "Requirement already satisfied: mpmath<1.4,>=1.1.0 in /usr/local/lib/python3.10/dist-packages (from sympy==1.13.1->torch) (1.3.0)\n",
            "Requirement already satisfied: huggingface-hub<1.0,>=0.23.2 in /usr/local/lib/python3.10/dist-packages (from transformers) (0.26.3)\n",
            "Requirement already satisfied: numpy>=1.17 in /usr/local/lib/python3.10/dist-packages (from transformers) (1.26.4)\n",
            "Requirement already satisfied: packaging>=20.0 in /usr/local/lib/python3.10/dist-packages (from transformers) (24.2)\n",
            "Requirement already satisfied: pyyaml>=5.1 in /usr/local/lib/python3.10/dist-packages (from transformers) (6.0.2)\n",
            "Requirement already satisfied: regex!=2019.12.17 in /usr/local/lib/python3.10/dist-packages (from transformers) (2024.9.11)\n",
            "Requirement already satisfied: requests in /usr/local/lib/python3.10/dist-packages (from transformers) (2.32.3)\n",
            "Requirement already satisfied: tokenizers<0.21,>=0.20 in /usr/local/lib/python3.10/dist-packages (from transformers) (0.20.3)\n",
            "Requirement already satisfied: safetensors>=0.4.1 in /usr/local/lib/python3.10/dist-packages (from transformers) (0.4.5)\n",
            "Requirement already satisfied: tqdm>=4.27 in /usr/local/lib/python3.10/dist-packages (from transformers) (4.66.6)\n",
            "Requirement already satisfied: pyarrow>=15.0.0 in /usr/local/lib/python3.10/dist-packages (from datasets) (17.0.0)\n",
            "Requirement already satisfied: dill<0.3.9,>=0.3.0 in /usr/local/lib/python3.10/dist-packages (from datasets) (0.3.8)\n",
            "Requirement already satisfied: pandas in /usr/local/lib/python3.10/dist-packages (from datasets) (2.2.2)\n",
            "Requirement already satisfied: xxhash in /usr/local/lib/python3.10/dist-packages (from datasets) (3.5.0)\n",
            "Requirement already satisfied: multiprocess<0.70.17 in /usr/local/lib/python3.10/dist-packages (from datasets) (0.70.16)\n",
            "Requirement already satisfied: aiohttp in /usr/local/lib/python3.10/dist-packages (from datasets) (3.11.9)\n",
            "Requirement already satisfied: audioread>=2.1.9 in /usr/local/lib/python3.10/dist-packages (from librosa) (3.0.1)\n",
            "Requirement already satisfied: scipy>=1.2.0 in /usr/local/lib/python3.10/dist-packages (from librosa) (1.13.1)\n",
            "Requirement already satisfied: scikit-learn>=0.20.0 in /usr/local/lib/python3.10/dist-packages (from librosa) (1.5.2)\n",
            "Requirement already satisfied: joblib>=0.14 in /usr/local/lib/python3.10/dist-packages (from librosa) (1.4.2)\n",
            "Requirement already satisfied: decorator>=4.3.0 in /usr/local/lib/python3.10/dist-packages (from librosa) (4.4.2)\n",
            "Requirement already satisfied: numba>=0.51.0 in /usr/local/lib/python3.10/dist-packages (from librosa) (0.60.0)\n",
            "Requirement already satisfied: soundfile>=0.12.1 in /usr/local/lib/python3.10/dist-packages (from librosa) (0.12.1)\n",
            "Requirement already satisfied: pooch>=1.1 in /usr/local/lib/python3.10/dist-packages (from librosa) (1.8.2)\n",
            "Requirement already satisfied: soxr>=0.3.2 in /usr/local/lib/python3.10/dist-packages (from librosa) (0.5.0.post1)\n",
            "Requirement already satisfied: lazy-loader>=0.1 in /usr/local/lib/python3.10/dist-packages (from librosa) (0.4)\n",
            "Requirement already satisfied: msgpack>=1.0 in /usr/local/lib/python3.10/dist-packages (from librosa) (1.1.0)\n",
            "Requirement already satisfied: aiohappyeyeballs>=2.3.0 in /usr/local/lib/python3.10/dist-packages (from aiohttp->datasets) (2.4.4)\n",
            "Requirement already satisfied: aiosignal>=1.1.2 in /usr/local/lib/python3.10/dist-packages (from aiohttp->datasets) (1.3.1)\n",
            "Requirement already satisfied: async-timeout<6.0,>=4.0 in /usr/local/lib/python3.10/dist-packages (from aiohttp->datasets) (4.0.3)\n",
            "Requirement already satisfied: attrs>=17.3.0 in /usr/local/lib/python3.10/dist-packages (from aiohttp->datasets) (24.2.0)\n",
            "Requirement already satisfied: frozenlist>=1.1.1 in /usr/local/lib/python3.10/dist-packages (from aiohttp->datasets) (1.5.0)\n",
            "Requirement already satisfied: multidict<7.0,>=4.5 in /usr/local/lib/python3.10/dist-packages (from aiohttp->datasets) (6.1.0)\n",
            "Requirement already satisfied: propcache>=0.2.0 in /usr/local/lib/python3.10/dist-packages (from aiohttp->datasets) (0.2.1)\n",
            "Requirement already satisfied: yarl<2.0,>=1.17.0 in /usr/local/lib/python3.10/dist-packages (from aiohttp->datasets) (1.18.3)\n",
            "Requirement already satisfied: llvmlite<0.44,>=0.43.0dev0 in /usr/local/lib/python3.10/dist-packages (from numba>=0.51.0->librosa) (0.43.0)\n",
            "Requirement already satisfied: platformdirs>=2.5.0 in /usr/local/lib/python3.10/dist-packages (from pooch>=1.1->librosa) (4.3.6)\n",
            "Requirement already satisfied: charset-normalizer<4,>=2 in /usr/local/lib/python3.10/dist-packages (from requests->transformers) (3.4.0)\n",
            "Requirement already satisfied: idna<4,>=2.5 in /usr/local/lib/python3.10/dist-packages (from requests->transformers) (3.10)\n",
            "Requirement already satisfied: urllib3<3,>=1.21.1 in /usr/local/lib/python3.10/dist-packages (from requests->transformers) (2.2.3)\n",
            "Requirement already satisfied: certifi>=2017.4.17 in /usr/local/lib/python3.10/dist-packages (from requests->transformers) (2024.8.30)\n",
            "Requirement already satisfied: threadpoolctl>=3.1.0 in /usr/local/lib/python3.10/dist-packages (from scikit-learn>=0.20.0->librosa) (3.5.0)\n",
            "Requirement already satisfied: cffi>=1.0 in /usr/local/lib/python3.10/dist-packages (from soundfile>=0.12.1->librosa) (1.17.1)\n",
            "Requirement already satisfied: MarkupSafe>=2.0 in /usr/local/lib/python3.10/dist-packages (from jinja2->torch) (3.0.2)\n",
            "Requirement already satisfied: python-dateutil>=2.8.2 in /usr/local/lib/python3.10/dist-packages (from pandas->datasets) (2.8.2)\n",
            "Requirement already satisfied: pytz>=2020.1 in /usr/local/lib/python3.10/dist-packages (from pandas->datasets) (2024.2)\n",
            "Requirement already satisfied: tzdata>=2022.7 in /usr/local/lib/python3.10/dist-packages (from pandas->datasets) (2024.2)\n",
            "Requirement already satisfied: pycparser in /usr/local/lib/python3.10/dist-packages (from cffi>=1.0->soundfile>=0.12.1->librosa) (2.22)\n",
            "Requirement already satisfied: six>=1.5 in /usr/local/lib/python3.10/dist-packages (from python-dateutil>=2.8.2->pandas->datasets) (1.16.0)\n"
          ]
        }
      ],
      "id": "mb34vgNX5Gfd"
    },
    {
      "cell_type": "code",
      "execution_count": null,
      "id": "1da2e939-d565-40a1-8dd3-c4e4b014a969",
      "metadata": {
        "scrolled": true,
        "colab": {
          "base_uri": "https://localhost:8080/",
          "height": 673
        },
        "id": "1da2e939-d565-40a1-8dd3-c4e4b014a969",
        "outputId": "60fe9fe3-6f7e-4f3d-f0ad-ff78a6ecd771"
      },
      "outputs": [
        {
          "output_type": "stream",
          "name": "stdout",
          "text": [
            "Audio file downloaded and saved to: processed_audio.wav\n",
            "Loaded processed audio file.\n",
            "Original Sample Rate: 44100\n",
            "Resampled Sample Rate: 16000\n",
            "Duration: 850.83 seconds\n"
          ]
        },
        {
          "output_type": "display_data",
          "data": {
            "text/plain": [
              "<Figure size 1000x400 with 1 Axes>"
            ],
            "image/png": "[encoded data removed]"
          },
          "metadata": {}
        },
        {
          "output_type": "stream",
          "name": "stdout",
          "text": [
            "MFCC features saved to ../data/tartanaviation/processed/processed_audio_mfcc.csv\n"
          ]
        },
        {
          "output_type": "stream",
          "name": "stderr",
          "text": [
            "/usr/local/lib/python3.10/dist-packages/huggingface_hub/utils/_auth.py:94: UserWarning: \n",
            "The secret `HF_TOKEN` does not exist in your Colab secrets.\n",
            "To authenticate with the Hugging Face Hub, create a token in your settings tab (https://huggingface.co/settings/tokens), set it as secret in your Google Colab and restart your session.\n",
            "You will be able to reuse this secret in all of your notebooks.\n",
            "Please note that authentication is recommended but still optional to access public models or datasets.\n",
            "  warnings.warn(\n",
            "Some weights of Wav2Vec2ForCTC were not initialized from the model checkpoint at facebook/wav2vec2-large-960h and are newly initialized: ['wav2vec2.masked_spec_embed']\n",
            "You should probably TRAIN this model on a down-stream task to be able to use it for predictions and inference.\n"
          ]
        }
      ],
      "source": [
        "# Import required libraries\n",
        "import os\n",
        "import librosa\n",
        "import librosa.display\n",
        "import matplotlib.pyplot as plt\n",
        "import numpy as np\n",
        "import pandas as pd\n",
        "from sklearn.model_selection import train_test_split\n",
        "from sklearn.ensemble import RandomForestClassifier\n",
        "from sklearn.metrics import classification_report, confusion_matrix\n",
        "from tensorflow.keras.models import Sequential\n",
        "from tensorflow.keras.layers import Dense, Dropout, Flatten, BatchNormalization\n",
        "from tensorflow.keras.utils import to_categorical\n",
        "from tensorflow.keras.optimizers import Adam\n",
        "from transformers import Wav2Vec2Processor, Wav2Vec2ForCTC, AutoTokenizer, AutoModelForSequenceClassification\n",
        "import torch\n",
        "import requests\n",
        "\n",
        "# Download and save the audio file locally\n",
        "def download_audio(url, save_path):\n",
        "    try:\n",
        "        response = requests.get(url)\n",
        "        response.raise_for_status()\n",
        "        with open(save_path, 'wb') as file:\n",
        "            file.write(response.content)\n",
        "        print(f\"Audio file downloaded and saved to: {save_path}\")\n",
        "    except Exception as e:\n",
        "        print(f\"Failed to download audio file: {e}\")\n",
        "\n",
        "processed_audio_url = \"https://raw.githubusercontent.com/GitAIwithMike/ATC-Models/main/data/tartanaviation/processed/processed_audio.wav\"\n",
        "local_audio_path = \"processed_audio.wav\"\n",
        "\n",
        "download_audio(processed_audio_url, local_audio_path)\n",
        "\n",
        "# Load processed audio file\n",
        "def analyze_audio(audio_path):\n",
        "    try:\n",
        "        audio, sr = librosa.load(audio_path, sr=44100)\n",
        "        resampled_audio = librosa.resample(audio, orig_sr=sr, target_sr=16000)\n",
        "\n",
        "        print(f\"Loaded processed audio file.\")\n",
        "        print(f\"Original Sample Rate: {sr}\")\n",
        "        print(f\"Resampled Sample Rate: 16000\")\n",
        "        print(f\"Duration: {len(audio) / sr:.2f} seconds\")\n",
        "\n",
        "        plt.figure(figsize=(10, 4))\n",
        "        librosa.display.waveshow(resampled_audio, sr=16000)\n",
        "        plt.title(\"Waveform of the Resampled Audio File\")\n",
        "        plt.xlabel(\"Time (seconds)\")\n",
        "        plt.ylabel(\"Amplitude\")\n",
        "        plt.show()\n",
        "    except Exception as e:\n",
        "        print(f\"Failed to load {audio_path}: {e}\")\n",
        "\n",
        "analyze_audio(local_audio_path)\n",
        "\n",
        "# Extract MFCC features and save\n",
        "mfcc_folder = \"../data/tartanaviation/processed/\"\n",
        "os.makedirs(mfcc_folder, exist_ok=True)\n",
        "\n",
        "def extract_mfcc(audio_path, output_folder):\n",
        "    try:\n",
        "        audio, sr = librosa.load(audio_path, sr=16000)\n",
        "\n",
        "        mfccs = librosa.feature.mfcc(y=audio, sr=sr, n_mfcc=13)\n",
        "        mfccs_delta = librosa.feature.delta(mfccs)\n",
        "        mfccs_delta2 = librosa.feature.delta(mfccs, order=2)\n",
        "\n",
        "        combined_mfccs = np.vstack([mfccs, mfccs_delta, mfccs_delta2])\n",
        "\n",
        "        mfcc_df = pd.DataFrame(combined_mfccs.T)\n",
        "        output_path = os.path.join(output_folder, \"processed_audio_mfcc.csv\")\n",
        "        mfcc_df.to_csv(output_path, index=False)\n",
        "        print(f\"MFCC features saved to {output_path}\")\n",
        "    except Exception as e:\n",
        "        print(f\"Failed to extract MFCC from {audio_path}: {e}\")\n",
        "\n",
        "extract_mfcc(local_audio_path, mfcc_folder)\n",
        "\n",
        "# Speech-to-text using Wav2Vec2\n",
        "processor = Wav2Vec2Processor.from_pretrained(\"facebook/wav2vec2-large-960h\")\n",
        "model = Wav2Vec2ForCTC.from_pretrained(\"facebook/wav2vec2-large-960h\")\n",
        "\n",
        "def transcribe_audio(audio_path):\n",
        "    try:\n",
        "        audio, sr = librosa.load(audio_path, sr=16000)\n",
        "        input_values = processor(audio, return_tensors=\"pt\", sampling_rate=16000).input_values\n",
        "        with torch.no_grad():\n",
        "            logits = model(input_values).logits\n",
        "        predicted_ids = torch.argmax(logits, dim=-1)\n",
        "        return processor.batch_decode(predicted_ids)[0]\n",
        "    except Exception as e:\n",
        "        print(f\"Failed to transcribe {audio_path}: {e}\")\n",
        "        return \"\"\n",
        "\n",
        "transcription = transcribe_audio(local_audio_path)\n",
        "print(f\"Transcription: {transcription}\")\n",
        "\n",
        "# Intent classification\n",
        "intent_tokenizer = AutoTokenizer.from_pretrained(\"bert-base-uncased\")\n",
        "intent_model = AutoModelForSequenceClassification.from_pretrained(\"bert-base-uncased\", num_labels=3)\n",
        "intent_labels = [\"clearance_request\", \"alert\", \"weather_request\"]\n",
        "\n",
        "def classify_intent(transcription):\n",
        "    try:\n",
        "        inputs = intent_tokenizer(transcription, return_tensors=\"pt\", truncation=True, padding=True)\n",
        "        outputs = intent_model(**inputs)\n",
        "        return intent_labels[torch.argmax(outputs.logits, dim=-1).item()]\n",
        "    except Exception as e:\n",
        "        print(f\"Failed to classify intent for transcription: {e}\")\n",
        "        return \"unknown\"\n",
        "\n",
        "intent = classify_intent(transcription)\n",
        "print(f\"Detected Intent: {intent}\")\n",
        "\n",
        "# Suggest action based on intent\n",
        "def suggest_action(intent, trajectory_data, weather_data):\n",
        "    if intent == \"clearance_request\":\n",
        "        return f\"Clearance granted for {trajectory_data['flight_id']}.\"\n",
        "    elif intent == \"alert\":\n",
        "        return f\"Notify authorities about restricted airspace violation by {trajectory_data['flight_id']}!\"\n",
        "    elif intent == \"weather_request\":\n",
        "        return f\"Weather update: Visibility {weather_data['visibility']}, Wind Speed {weather_data['wind_speed']}!\"\n",
        "    else:\n",
        "        return \"No action required.\"\n",
        "\n",
        "trajectory_data = {\"flight_id\": \"ABC123\", \"altitude\": 30000, \"heading\": 180}\n",
        "weather_data = {\"location\": \"runway_22\", \"visibility\": \"5 miles\", \"wind_speed\": \"10 knots\"}\n",
        "\n",
        "action = suggest_action(intent, trajectory_data, weather_data)\n",
        "print(f\"Suggested Action: {action}\")"
      ]
    },
    {
      "cell_type": "code",
      "execution_count": null,
      "id": "83735b96-3992-45ed-97c8-cc6724b1c861",
      "metadata": {
        "colab": {
          "base_uri": "https://localhost:8080/",
          "height": 603
        },
        "id": "83735b96-3992-45ed-97c8-cc6724b1c861",
        "outputId": "35d3ebc3-28fe-476f-fbab-ff3ffc614b1e"
      },
      "outputs": [
        {
          "output_type": "display_data",
          "data": {
            "text/plain": [
              "<Figure size 1200x600 with 3 Axes>"
            ],
            "image/png": "[encoded data removed]"
          },
          "metadata": {}
        },
        {
          "output_type": "stream",
          "name": "stderr",
          "text": [
            "/usr/local/lib/python3.10/dist-packages/huggingface_hub/utils/_auth.py:94: UserWarning: \n",
            "The secret `HF_TOKEN` does not exist in your Colab secrets.\n",
            "To authenticate with the Hugging Face Hub, create a token in your settings tab (https://huggingface.co/settings/tokens), set it as secret in your Google Colab and restart your session.\n",
            "You will be able to reuse this secret in all of your notebooks.\n",
            "Please note that authentication is recommended but still optional to access public models or datasets.\n",
            "  warnings.warn(\n",
            "Some weights of Wav2Vec2ForCTC were not initialized from the model checkpoint at facebook/wav2vec2-large-960h and are newly initialized: ['wav2vec2.masked_spec_embed']\n",
            "You should probably TRAIN this model on a down-stream task to be able to use it for predictions and inference.\n"
          ]
        }
      ],
      "source": [
        "# Import required libraries\n",
        "import os\n",
        "import logging\n",
        "import librosa\n",
        "import librosa.display\n",
        "import matplotlib.pyplot as plt\n",
        "import numpy as np\n",
        "import pandas as pd\n",
        "from sklearn.model_selection import train_test_split\n",
        "from sklearn.ensemble import RandomForestClassifier\n",
        "from sklearn.metrics import classification_report, confusion_matrix\n",
        "from tensorflow.keras.models import Sequential\n",
        "from tensorflow.keras.layers import Dense, Dropout, Flatten, BatchNormalization\n",
        "from tensorflow.keras.utils import to_categorical\n",
        "from tensorflow.keras.optimizers import Adam\n",
        "from transformers import Wav2Vec2Processor, Wav2Vec2ForCTC, AutoTokenizer, AutoModelForSequenceClassification\n",
        "import torch\n",
        "import requests\n",
        "\n",
        "# Configure logging\n",
        "logging.basicConfig(level=logging.INFO, format='%(asctime)s - %(levelname)s - %(message)s')\n",
        "\n",
        "# Function to download and save the audio file locally\n",
        "def download_audio(url, save_path):\n",
        "    try:\n",
        "        response = requests.get(url)\n",
        "        response.raise_for_status()\n",
        "        with open(save_path, 'wb') as file:\n",
        "            file.write(response.content)\n",
        "        logging.info(f\"Audio file downloaded and saved to: {save_path}\")\n",
        "    except Exception as e:\n",
        "        logging.error(f\"Failed to download audio file: {e}\")\n",
        "\n",
        "# Dynamic paths\n",
        "data_folder = os.path.join(os.getcwd(), \"data\", \"tartanaviation\", \"processed\")\n",
        "os.makedirs(data_folder, exist_ok=True)\n",
        "local_audio_path = os.path.join(data_folder, \"processed_audio.wav\")\n",
        "\n",
        "# URL of the processed audio file\n",
        "processed_audio_url = \"https://raw.githubusercontent.com/GitAIwithMike/ATC-Models/main/data/tartanaviation/processed/processed_audio.wav\"\n",
        "download_audio(processed_audio_url, local_audio_path)\n",
        "\n",
        "# Function to analyze the audio\n",
        "def analyze_audio(audio_path):\n",
        "    try:\n",
        "        audio, sr = librosa.load(audio_path, sr=44100)\n",
        "        resampled_audio = librosa.resample(audio, orig_sr=sr, target_sr=16000)\n",
        "\n",
        "        logging.info(f\"Loaded processed audio file.\")\n",
        "        logging.info(f\"Original Sample Rate: {sr}\")\n",
        "        logging.info(f\"Resampled Sample Rate: 16000\")\n",
        "        logging.info(f\"Duration: {len(audio) / sr:.2f} seconds\")\n",
        "\n",
        "        plt.figure(figsize=(12, 6))\n",
        "        plt.subplot(2, 1, 1)\n",
        "        librosa.display.waveshow(resampled_audio, sr=16000)\n",
        "        plt.title(\"Waveform of the Resampled Audio File\")\n",
        "        plt.xlabel(\"Time (seconds)\")\n",
        "        plt.ylabel(\"Amplitude\")\n",
        "\n",
        "        plt.subplot(2, 1, 2)\n",
        "        D = librosa.amplitude_to_db(np.abs(librosa.stft(resampled_audio)), ref=np.max)\n",
        "        librosa.display.specshow(D, sr=16000, x_axis='time', y_axis='log')\n",
        "        plt.title(\"Spectrogram of the Resampled Audio File\")\n",
        "        plt.colorbar(format='%+2.0f dB')\n",
        "        plt.tight_layout()\n",
        "        plt.show()\n",
        "    except Exception as e:\n",
        "        logging.error(f\"Failed to analyze {audio_path}: {e}\")\n",
        "\n",
        "analyze_audio(local_audio_path)\n",
        "\n",
        "# Function to extract MFCC features\n",
        "def extract_mfcc(audio_path, output_folder):\n",
        "    try:\n",
        "        audio, sr = librosa.load(audio_path, sr=16000)\n",
        "        mfccs = librosa.feature.mfcc(y=audio, sr=sr, n_mfcc=13)\n",
        "        mfccs_delta = librosa.feature.delta(mfccs)\n",
        "        mfccs_delta2 = librosa.feature.delta(mfccs, order=2)\n",
        "\n",
        "        combined_mfccs = np.vstack([mfccs, mfccs_delta, mfccs_delta2])\n",
        "\n",
        "        mfcc_df = pd.DataFrame(combined_mfccs.T)\n",
        "        output_path = os.path.join(output_folder, \"processed_audio_mfcc.csv\")\n",
        "        mfcc_df.to_csv(output_path, index=False)\n",
        "        logging.info(f\"MFCC features saved to {output_path}\")\n",
        "    except Exception as e:\n",
        "        logging.error(f\"Failed to extract MFCC from {audio_path}: {e}\")\n",
        "\n",
        "extract_mfcc(local_audio_path, data_folder)\n",
        "\n",
        "# Load Wav2Vec2 for speech-to-text\n",
        "processor = Wav2Vec2Processor.from_pretrained(\"facebook/wav2vec2-large-960h\")\n",
        "model = Wav2Vec2ForCTC.from_pretrained(\"facebook/wav2vec2-large-960h\")\n",
        "\n",
        "# Function to transcribe audio\n",
        "def transcribe_audio(audio_path):\n",
        "    try:\n",
        "        audio, sr = librosa.load(audio_path, sr=16000)\n",
        "        input_values = processor(audio, return_tensors=\"pt\", sampling_rate=16000).input_values\n",
        "        with torch.no_grad():\n",
        "            logits = model(input_values).logits\n",
        "        predicted_ids = torch.argmax(logits, dim=-1)\n",
        "        return processor.batch_decode(predicted_ids)[0]\n",
        "    except Exception as e:\n",
        "        logging.error(f\"Failed to transcribe {audio_path}: {e}\")\n",
        "        return \"\"\n",
        "\n",
        "transcription = transcribe_audio(local_audio_path)\n",
        "logging.info(f\"Transcription: {transcription}\")\n",
        "\n",
        "# Intent classification using BERT\n",
        "intent_tokenizer = AutoTokenizer.from_pretrained(\"bert-base-uncased\")\n",
        "intent_model = AutoModelForSequenceClassification.from_pretrained(\"bert-base-uncased\", num_labels=3)\n",
        "intent_labels = [\"clearance_request\", \"alert\", \"weather_request\"]\n",
        "\n",
        "# Function to classify intent\n",
        "def classify_intent(transcription):\n",
        "    try:\n",
        "        inputs = intent_tokenizer(transcription, return_tensors=\"pt\", truncation=True, padding=True)\n",
        "        outputs = intent_model(**inputs)\n",
        "        return intent_labels[torch.argmax(outputs.logits, dim=-1).item()]\n",
        "    except Exception as e:\n",
        "        logging.error(f\"Failed to classify intent for transcription: {e}\")\n",
        "        return \"unknown\"\n",
        "\n",
        "intent = classify_intent(transcription)\n",
        "logging.info(f\"Detected Intent: {intent}\")\n",
        "\n",
        "# Suggest action based on intent\n",
        "def suggest_action(intent, trajectory_data, weather_data):\n",
        "    if intent == \"clearance_request\":\n",
        "        return f\"Clearance granted for {trajectory_data['flight_id']}.\"\n",
        "    elif intent == \"alert\":\n",
        "        return f\"Notify authorities about restricted airspace violation by {trajectory_data['flight_id']}!\"\n",
        "    elif intent == \"weather_request\":\n",
        "        return f\"Weather update: Visibility {weather_data['visibility']}, Wind Speed {weather_data['wind_speed']}!\"\n",
        "    else:\n",
        "        return \"No action required.\"\n",
        "\n",
        "trajectory_data = {\"flight_id\": \"ABC123\", \"altitude\": 30000, \"heading\": 180}\n",
        "weather_data = {\"location\": \"runway_22\", \"visibility\": \"5 miles\", \"wind_speed\": \"10 knots\"}\n",
        "\n",
        "action = suggest_action(intent, trajectory_data, weather_data)\n",
        "logging.info(f\"Suggested Action: {action}\")\n"
      ]
    },
    {
      "cell_type": "code",
      "source": [],
      "metadata": {
        "colab": {
          "base_uri": "https://localhost:8080/"
        },
        "id": "0J_LtnWLCnps",
        "outputId": "c3c1edb2-cf34-4a88-9aa8-9000d18841af"
      },
      "id": "0J_LtnWLCnps",
      "execution_count": null,
      "outputs": [
        {
          "output_type": "stream",
          "name": "stdout",
          "text": [
            "           0    1    2    3    4    5    6    7    8    9  ...   29   30   31  \\\n",
            "0 -449.68054  0.0  0.0  0.0  0.0  0.0  0.0  0.0  0.0  0.0  ...  0.0  0.0  0.0   \n",
            "1 -449.68054  0.0  0.0  0.0  0.0  0.0  0.0  0.0  0.0  0.0  ...  0.0  0.0  0.0   \n",
            "2 -449.68054  0.0  0.0  0.0  0.0  0.0  0.0  0.0  0.0  0.0  ...  0.0  0.0  0.0   \n",
            "3 -449.68054  0.0  0.0  0.0  0.0  0.0  0.0  0.0  0.0  0.0  ...  0.0  0.0  0.0   \n",
            "4 -449.68054  0.0  0.0  0.0  0.0  0.0  0.0  0.0  0.0  0.0  ...  0.0  0.0  0.0   \n",
            "\n",
            "    32   33   34   35   36   37   38  \n",
            "0  0.0  0.0  0.0  0.0  0.0  0.0  0.0  \n",
            "1  0.0  0.0  0.0  0.0  0.0  0.0  0.0  \n",
            "2  0.0  0.0  0.0  0.0  0.0  0.0  0.0  \n",
            "3  0.0  0.0  0.0  0.0  0.0  0.0  0.0  \n",
            "4  0.0  0.0  0.0  0.0  0.0  0.0  0.0  \n",
            "\n",
            "[5 rows x 39 columns]\n",
            "                  0             1             2             3             4  \\\n",
            "count  26589.000000  26589.000000  26589.000000  26589.000000  26589.000000   \n",
            "mean    -443.603737      1.410459     -0.580327     -0.106319     -0.141574   \n",
            "std       55.877677     12.525979      7.229481      2.388334      2.387446   \n",
            "min     -449.680540     -0.005307   -143.871810    -47.732574    -38.742447   \n",
            "25%     -449.680540      0.000000      0.000000      0.000000      0.000000   \n",
            "50%     -449.680540      0.000000      0.000000      0.000000      0.000000   \n",
            "75%     -449.680540      0.000000      0.000000      0.000000      0.000000   \n",
            "max      177.788220    199.154300     46.164833     24.846214     19.679125   \n",
            "\n",
            "                  5             6             7             8             9  \\\n",
            "count  26589.000000  26589.000000  26589.000000  26589.000000  26589.000000   \n",
            "mean      -0.171043     -0.179336     -0.045959     -0.084060      0.014608   \n",
            "std        2.726296      2.578797      1.284055      1.658956      0.860719   \n",
            "min      -66.435524    -55.141260    -26.656560    -39.538795    -20.937008   \n",
            "25%        0.000000      0.000000      0.000000      0.000000      0.000000   \n",
            "50%        0.000000      0.000000      0.000000      0.000000      0.000000   \n",
            "75%        0.000000      0.000000      0.000000      0.000000      0.000000   \n",
            "max       17.714920     13.134629     12.894419     11.872192     16.986760   \n",
            "\n",
            "       ...            29            30            31            32  \\\n",
            "count  ...  2.658900e+04  2.658900e+04  2.658900e+04  2.658900e+04   \n",
            "mean   ...  2.354514e-12  3.001564e-11  3.660041e-11 -2.197255e-11   \n",
            "std    ...  2.011343e-01  1.466940e-01  2.037250e-01  1.374674e-01   \n",
            "min    ... -4.926975e+00 -3.380364e+00 -5.553695e+00 -3.506532e+00   \n",
            "25%    ...  0.000000e+00  0.000000e+00  0.000000e+00  0.000000e+00   \n",
            "50%    ...  0.000000e+00  0.000000e+00  0.000000e+00  0.000000e+00   \n",
            "75%    ...  0.000000e+00  0.000000e+00  0.000000e+00  0.000000e+00   \n",
            "max    ...  4.277200e+00  3.342429e+00  6.628717e+00  3.292563e+00   \n",
            "\n",
            "                 33            34            35            36            37  \\\n",
            "count  2.658900e+04  2.658900e+04  2.658900e+04  2.658900e+04  2.658900e+04   \n",
            "mean   2.117257e-11  2.975757e-11 -5.426220e-12 -3.990852e-11 -1.486058e-11   \n",
            "std    1.029660e-01  1.610449e-01  1.242778e-01  1.053053e-01  1.090442e-01   \n",
            "min   -2.224267e+00 -3.943334e+00 -3.025330e+00 -2.343124e+00 -2.580074e+00   \n",
            "25%    0.000000e+00  0.000000e+00  0.000000e+00  0.000000e+00  0.000000e+00   \n",
            "50%    0.000000e+00  0.000000e+00  0.000000e+00  0.000000e+00  0.000000e+00   \n",
            "75%    0.000000e+00  0.000000e+00  0.000000e+00  0.000000e+00  0.000000e+00   \n",
            "max    2.578784e+00  4.643313e+00  3.347619e+00  2.852824e+00  3.185556e+00   \n",
            "\n",
            "                 38  \n",
            "count  2.658900e+04  \n",
            "mean  -4.329878e-12  \n",
            "std    7.746662e-02  \n",
            "min   -1.588495e+00  \n",
            "25%    0.000000e+00  \n",
            "50%    0.000000e+00  \n",
            "75%    0.000000e+00  \n",
            "max    1.586275e+00  \n",
            "\n",
            "[8 rows x 39 columns]\n"
          ]
        }
      ]
    },
    {
      "cell_type": "code",
      "source": [
        "pip install transformers torchaudio librosa\n"
      ],
      "metadata": {
        "colab": {
          "base_uri": "https://localhost:8080/"
        },
        "id": "COFGSi09FtK3",
        "outputId": "2b117aec-9f9d-4014-cc26-4db4a438bbaa"
      },
      "id": "COFGSi09FtK3",
      "execution_count": 1,
      "outputs": [
        {
          "output_type": "stream",
          "name": "stdout",
          "text": [
            "Requirement already satisfied: transformers in /usr/local/lib/python3.10/dist-packages (4.46.3)\n",
            "Requirement already satisfied: torchaudio in /usr/local/lib/python3.10/dist-packages (2.5.1+cu121)\n",
            "Requirement already satisfied: librosa in /usr/local/lib/python3.10/dist-packages (0.10.2.post1)\n",
            "Requirement already satisfied: filelock in /usr/local/lib/python3.10/dist-packages (from transformers) (3.16.1)\n",
            "Requirement already satisfied: huggingface-hub<1.0,>=0.23.2 in /usr/local/lib/python3.10/dist-packages (from transformers) (0.26.3)\n",
            "Requirement already satisfied: numpy>=1.17 in /usr/local/lib/python3.10/dist-packages (from transformers) (1.26.4)\n",
            "Requirement already satisfied: packaging>=20.0 in /usr/local/lib/python3.10/dist-packages (from transformers) (24.2)\n",
            "Requirement already satisfied: pyyaml>=5.1 in /usr/local/lib/python3.10/dist-packages (from transformers) (6.0.2)\n",
            "Requirement already satisfied: regex!=2019.12.17 in /usr/local/lib/python3.10/dist-packages (from transformers) (2024.9.11)\n",
            "Requirement already satisfied: requests in /usr/local/lib/python3.10/dist-packages (from transformers) (2.32.3)\n",
            "Requirement already satisfied: tokenizers<0.21,>=0.20 in /usr/local/lib/python3.10/dist-packages (from transformers) (0.20.3)\n",
            "Requirement already satisfied: safetensors>=0.4.1 in /usr/local/lib/python3.10/dist-packages (from transformers) (0.4.5)\n",
            "Requirement already satisfied: tqdm>=4.27 in /usr/local/lib/python3.10/dist-packages (from transformers) (4.66.6)\n",
            "Requirement already satisfied: torch==2.5.1 in /usr/local/lib/python3.10/dist-packages (from torchaudio) (2.5.1+cu121)\n",
            "Requirement already satisfied: typing-extensions>=4.8.0 in /usr/local/lib/python3.10/dist-packages (from torch==2.5.1->torchaudio) (4.12.2)\n",
            "Requirement already satisfied: networkx in /usr/local/lib/python3.10/dist-packages (from torch==2.5.1->torchaudio) (3.4.2)\n",
            "Requirement already satisfied: jinja2 in /usr/local/lib/python3.10/dist-packages (from torch==2.5.1->torchaudio) (3.1.4)\n",
            "Requirement already satisfied: fsspec in /usr/local/lib/python3.10/dist-packages (from torch==2.5.1->torchaudio) (2024.9.0)\n",
            "Requirement already satisfied: sympy==1.13.1 in /usr/local/lib/python3.10/dist-packages (from torch==2.5.1->torchaudio) (1.13.1)\n",
            "Requirement already satisfied: mpmath<1.4,>=1.1.0 in /usr/local/lib/python3.10/dist-packages (from sympy==1.13.1->torch==2.5.1->torchaudio) (1.3.0)\n",
            "Requirement already satisfied: audioread>=2.1.9 in /usr/local/lib/python3.10/dist-packages (from librosa) (3.0.1)\n",
            "Requirement already satisfied: scipy>=1.2.0 in /usr/local/lib/python3.10/dist-packages (from librosa) (1.13.1)\n",
            "Requirement already satisfied: scikit-learn>=0.20.0 in /usr/local/lib/python3.10/dist-packages (from librosa) (1.5.2)\n",
            "Requirement already satisfied: joblib>=0.14 in /usr/local/lib/python3.10/dist-packages (from librosa) (1.4.2)\n",
            "Requirement already satisfied: decorator>=4.3.0 in /usr/local/lib/python3.10/dist-packages (from librosa) (4.4.2)\n",
            "Requirement already satisfied: numba>=0.51.0 in /usr/local/lib/python3.10/dist-packages (from librosa) (0.60.0)\n",
            "Requirement already satisfied: soundfile>=0.12.1 in /usr/local/lib/python3.10/dist-packages (from librosa) (0.12.1)\n",
            "Requirement already satisfied: pooch>=1.1 in /usr/local/lib/python3.10/dist-packages (from librosa) (1.8.2)\n",
            "Requirement already satisfied: soxr>=0.3.2 in /usr/local/lib/python3.10/dist-packages (from librosa) (0.5.0.post1)\n",
            "Requirement already satisfied: lazy-loader>=0.1 in /usr/local/lib/python3.10/dist-packages (from librosa) (0.4)\n",
            "Requirement already satisfied: msgpack>=1.0 in /usr/local/lib/python3.10/dist-packages (from librosa) (1.1.0)\n",
            "Requirement already satisfied: llvmlite<0.44,>=0.43.0dev0 in /usr/local/lib/python3.10/dist-packages (from numba>=0.51.0->librosa) (0.43.0)\n",
            "Requirement already satisfied: platformdirs>=2.5.0 in /usr/local/lib/python3.10/dist-packages (from pooch>=1.1->librosa) (4.3.6)\n",
            "Requirement already satisfied: charset-normalizer<4,>=2 in /usr/local/lib/python3.10/dist-packages (from requests->transformers) (3.4.0)\n",
            "Requirement already satisfied: idna<4,>=2.5 in /usr/local/lib/python3.10/dist-packages (from requests->transformers) (3.10)\n",
            "Requirement already satisfied: urllib3<3,>=1.21.1 in /usr/local/lib/python3.10/dist-packages (from requests->transformers) (2.2.3)\n",
            "Requirement already satisfied: certifi>=2017.4.17 in /usr/local/lib/python3.10/dist-packages (from requests->transformers) (2024.8.30)\n",
            "Requirement already satisfied: threadpoolctl>=3.1.0 in /usr/local/lib/python3.10/dist-packages (from scikit-learn>=0.20.0->librosa) (3.5.0)\n",
            "Requirement already satisfied: cffi>=1.0 in /usr/local/lib/python3.10/dist-packages (from soundfile>=0.12.1->librosa) (1.17.1)\n",
            "Requirement already satisfied: pycparser in /usr/local/lib/python3.10/dist-packages (from cffi>=1.0->soundfile>=0.12.1->librosa) (2.22)\n",
            "Requirement already satisfied: MarkupSafe>=2.0 in /usr/local/lib/python3.10/dist-packages (from jinja2->torch==2.5.1->torchaudio) (3.0.2)\n"
          ]
        }
      ]
    },
    {
      "cell_type": "code",
      "source": [
        "import torch\n",
        "from transformers import Wav2Vec2ForCTC, Wav2Vec2Processor\n",
        "import torchaudio\n"
      ],
      "metadata": {
        "id": "sM3NYTslFybR"
      },
      "id": "sM3NYTslFybR",
      "execution_count": 3,
      "outputs": []
    },
    {
      "cell_type": "code",
      "source": [
        "# Load the pre-trained Wav2Vec2 model and processor from Hugging Face\n",
        "processor = Wav2Vec2Processor.from_pretrained(\"facebook/wav2vec2-large-960h\")\n",
        "model = Wav2Vec2ForCTC.from_pretrained(\"facebook/wav2vec2-large-960h\")\n"
      ],
      "metadata": {
        "colab": {
          "base_uri": "https://localhost:8080/"
        },
        "id": "03Jl_UU7F-Zv",
        "outputId": "77360f21-7b82-448c-b8b8-1f33ecc571aa"
      },
      "id": "03Jl_UU7F-Zv",
      "execution_count": 4,
      "outputs": [
        {
          "output_type": "stream",
          "name": "stderr",
          "text": [
            "/usr/local/lib/python3.10/dist-packages/huggingface_hub/utils/_auth.py:94: UserWarning: \n",
            "The secret `HF_TOKEN` does not exist in your Colab secrets.\n",
            "To authenticate with the Hugging Face Hub, create a token in your settings tab (https://huggingface.co/settings/tokens), set it as secret in your Google Colab and restart your session.\n",
            "You will be able to reuse this secret in all of your notebooks.\n",
            "Please note that authentication is recommended but still optional to access public models or datasets.\n",
            "  warnings.warn(\n",
            "Some weights of Wav2Vec2ForCTC were not initialized from the model checkpoint at facebook/wav2vec2-large-960h and are newly initialized: ['wav2vec2.masked_spec_embed']\n",
            "You should probably TRAIN this model on a down-stream task to be able to use it for predictions and inference.\n"
          ]
        }
      ]
    },
    {
      "cell_type": "code",
      "source": [
        "# Load the processed audio file\n",
        "def load_audio(audio_path):\n",
        "    # Use torchaudio to load the audio, which handles many formats like WAV, MP3, etc.\n",
        "    waveform, sample_rate = torchaudio.load(audio_path)\n",
        "    return waveform, sample_rate\n",
        "\n",
        "# Resample audio to match model's expected sample rate (16kHz)\n",
        "def preprocess_audio(waveform, sample_rate, target_sample_rate=16000):\n",
        "    # Resample if necessary\n",
        "    if sample_rate != target_sample_rate:\n",
        "        resampler = torchaudio.transforms.Resample(orig_freq=sample_rate, new_freq=target_sample_rate)\n",
        "        waveform = resampler(waveform)\n",
        "    return waveform\n",
        "\n",
        "# Example usage\n",
        "audio_path = '/content/ATC-Models/data/tartanaviation/processed/processed_audio.wav'\n",
        "waveform, sample_rate = load_audio(audio_path)\n",
        "waveform = preprocess_audio(waveform, sample_rate)\n"
      ],
      "metadata": {
        "id": "RTiu04MgGYiX"
      },
      "id": "RTiu04MgGYiX",
      "execution_count": 5,
      "outputs": []
    },
    {
      "cell_type": "code",
      "source": [
        "import torch\n",
        "from transformers import Wav2Vec2Processor, Wav2Vec2ForCTC\n",
        "import torchaudio\n",
        "\n",
        "# Load the model and processor\n",
        "processor = Wav2Vec2Processor.from_pretrained(\"facebook/wav2vec2-large-960h\")\n",
        "model = Wav2Vec2ForCTC.from_pretrained(\"facebook/wav2vec2-large-960h\")\n",
        "\n",
        "# Load and preprocess audio\n",
        "def load_audio(audio_path):\n",
        "    waveform, sample_rate = torchaudio.load(audio_path)\n",
        "    return waveform, sample_rate\n",
        "\n",
        "# Resample audio to match model's expected sample rate (16kHz)\n",
        "def preprocess_audio(waveform, sample_rate, target_sample_rate=16000):\n",
        "    if sample_rate != target_sample_rate:\n",
        "        resampler = torchaudio.transforms.Resample(orig_freq=sample_rate, new_freq=target_sample_rate)\n",
        "        waveform = resampler(waveform)\n",
        "    # Ensure the tensor shape is (batch_size, num_samples)\n",
        "    if waveform.dim() == 2:\n",
        "        waveform = waveform.squeeze(0)  # Remove extra dimension if present\n",
        "    return waveform\n",
        "\n",
        "# Transcribe audio\n",
        "def transcribe_audio(waveform):\n",
        "    # Preprocess audio for Wav2Vec2\n",
        "    inputs = processor(waveform, return_tensors=\"pt\", sampling_rate=16000)\n",
        "\n",
        "    # Perform inference with the model\n",
        "    with torch.no_grad():\n",
        "        logits = model(input_values=inputs.input_values).logits\n",
        "\n",
        "    # Decode the output\n",
        "    predicted_ids = torch.argmax(logits, dim=-1)\n",
        "    transcription = processor.decode(predicted_ids[0])\n",
        "    return transcription\n",
        "\n",
        "# Path to the processed audio file\n",
        "audio_path = '/content/ATC-Models/data/tartanaviation/processed/processed_audio.wav'\n",
        "\n",
        "# Load and preprocess the audio\n",
        "waveform, sample_rate = load_audio(audio_path)\n",
        "waveform = preprocess_audio(waveform, sample_rate)\n",
        "\n",
        "# Perform transcription\n",
        "transcription = transcribe_audio(waveform)\n",
        "\n",
        "# Print the transcription\n",
        "print(f\"Transcription: {transcription}\")\n"
      ],
      "metadata": {
        "colab": {
          "base_uri": "https://localhost:8080/"
        },
        "id": "ph4fzE6jHC8C",
        "outputId": "34e53b71-e756-4950-cc25-71a9b731f79a"
      },
      "id": "ph4fzE6jHC8C",
      "execution_count": null,
      "outputs": [
        {
          "output_type": "stream",
          "name": "stderr",
          "text": [
            "/usr/local/lib/python3.10/dist-packages/huggingface_hub/utils/_auth.py:94: UserWarning: \n",
            "The secret `HF_TOKEN` does not exist in your Colab secrets.\n",
            "To authenticate with the Hugging Face Hub, create a token in your settings tab (https://huggingface.co/settings/tokens), set it as secret in your Google Colab and restart your session.\n",
            "You will be able to reuse this secret in all of your notebooks.\n",
            "Please note that authentication is recommended but still optional to access public models or datasets.\n",
            "  warnings.warn(\n",
            "Some weights of Wav2Vec2ForCTC were not initialized from the model checkpoint at facebook/wav2vec2-large-960h and are newly initialized: ['wav2vec2.masked_spec_embed']\n",
            "You should probably TRAIN this model on a down-stream task to be able to use it for predictions and inference.\n"
          ]
        }
      ]
    },
    {
      "cell_type": "code",
      "source": [
        "import torch\n",
        "from transformers import Wav2Vec2Processor, Wav2Vec2ForCTC\n",
        "import torchaudio\n",
        "\n",
        "# Load the model and processor\n",
        "processor = Wav2Vec2Processor.from_pretrained(\"facebook/wav2vec2-large-960h\")\n",
        "model = Wav2Vec2ForCTC.from_pretrained(\"facebook/wav2vec2-large-960h\")\n",
        "\n",
        "# Load and preprocess audio\n",
        "def load_audio(audio_path):\n",
        "    waveform, sample_rate = torchaudio.load(audio_path)\n",
        "    return waveform, sample_rate\n",
        "\n",
        "# Resample audio to match model's expected sample rate (16kHz)\n",
        "def preprocess_audio(waveform, sample_rate, target_sample_rate=16000):\n",
        "    if sample_rate != target_sample_rate:\n",
        "        resampler = torchaudio.transforms.Resample(orig_freq=sample_rate, new_freq=target_sample_rate)\n",
        "        waveform = resampler(waveform)\n",
        "    # Ensure the tensor shape is (batch_size, num_samples)\n",
        "    if waveform.dim() == 2:\n",
        "        waveform = waveform.squeeze(0)  # Remove extra dimension if present\n",
        "    return waveform\n",
        "\n",
        "# Transcribe audio\n",
        "def transcribe_audio(waveform):\n",
        "    # Preprocess audio for Wav2Vec2\n",
        "    inputs = processor(waveform, return_tensors=\"pt\", sampling_rate=16000)\n",
        "\n",
        "    # Perform inference with the model\n",
        "    with torch.no_grad():\n",
        "        logits = model(input_values=inputs.input_values).logits\n",
        "\n",
        "    # Decode the output\n",
        "    predicted_ids = torch.argmax(logits, dim=-1)\n",
        "    transcription = processor.decode(predicted_ids[0])\n",
        "    return transcription\n",
        "\n",
        "# Path to the processed audio file\n",
        "audio_path = '/content/ATC-Models/notebooks/processed_audio.wavv'\n",
        "\n",
        "# Check if the audio file is too large\n",
        "import os\n",
        "audio_size = os.path.getsize(audio_path)\n",
        "max_size = 50 * 1024 * 1024  # 50MB max size\n",
        "\n",
        "if audio_size > max_size:\n",
        "    print(\"Audio file is too large! Consider trimming or reducing the size.\")\n",
        "else:\n",
        "    # Load and preprocess the audio\n",
        "    waveform, sample_rate = load_audio(audio_path)\n",
        "    waveform = preprocess_audio(waveform, sample_rate)\n",
        "\n",
        "    # Perform transcription\n",
        "    try:\n",
        "        transcription = transcribe_audio(waveform)\n",
        "        print(f\"Transcription: {transcription}\")\n",
        "    except Exception as e:\n",
        "        print(f\"Error during transcription: {e}\")\n"
      ],
      "metadata": {
        "id": "5c4Gq-8WIFnN"
      },
      "id": "5c4Gq-8WIFnN",
      "execution_count": null,
      "outputs": []
    },
    {
      "cell_type": "code",
      "source": [
        "import os\n",
        "file_path = '/content/ATC-Models/notebooks/processed_audio.wav'\n",
        "if os.path.exists(file_path):\n",
        "    print(f\"File found: {file_path}\")\n",
        "else:\n",
        "    print(f\"File not found at {file_path}\")\n"
      ],
      "metadata": {
        "colab": {
          "base_uri": "https://localhost:8080/"
        },
        "id": "xCHpKPCfIllh",
        "outputId": "004994e3-b772-4018-c44f-82f955becfa1"
      },
      "id": "xCHpKPCfIllh",
      "execution_count": 5,
      "outputs": [
        {
          "output_type": "stream",
          "name": "stdout",
          "text": [
            "File found: /content/ATC-Models/notebooks/processed_audio.wav\n"
          ]
        }
      ]
    },
    {
      "cell_type": "code",
      "source": [
        "pip install SpeechRecognition pydub matplotlib numpy\n"
      ],
      "metadata": {
        "colab": {
          "base_uri": "https://localhost:8080/"
        },
        "id": "iXZEJ25XKTjn",
        "outputId": "87891858-2cb9-430e-aa80-ee02ca28c692"
      },
      "id": "iXZEJ25XKTjn",
      "execution_count": 7,
      "outputs": [
        {
          "output_type": "stream",
          "name": "stdout",
          "text": [
            "Collecting SpeechRecognition\n",
            "  Downloading SpeechRecognition-3.12.0-py3-none-any.whl.metadata (30 kB)\n",
            "Requirement already satisfied: pydub in /usr/local/lib/python3.10/dist-packages (0.25.1)\n",
            "Requirement already satisfied: matplotlib in /usr/local/lib/python3.10/dist-packages (3.8.0)\n",
            "Requirement already satisfied: numpy in /usr/local/lib/python3.10/dist-packages (1.26.4)\n",
            "Requirement already satisfied: typing-extensions in /usr/local/lib/python3.10/dist-packages (from SpeechRecognition) (4.12.2)\n",
            "Requirement already satisfied: contourpy>=1.0.1 in /usr/local/lib/python3.10/dist-packages (from matplotlib) (1.3.1)\n",
            "Requirement already satisfied: cycler>=0.10 in /usr/local/lib/python3.10/dist-packages (from matplotlib) (0.12.1)\n",
            "Requirement already satisfied: fonttools>=4.22.0 in /usr/local/lib/python3.10/dist-packages (from matplotlib) (4.55.1)\n",
            "Requirement already satisfied: kiwisolver>=1.0.1 in /usr/local/lib/python3.10/dist-packages (from matplotlib) (1.4.7)\n",
            "Requirement already satisfied: packaging>=20.0 in /usr/local/lib/python3.10/dist-packages (from matplotlib) (24.2)\n",
            "Requirement already satisfied: pillow>=6.2.0 in /usr/local/lib/python3.10/dist-packages (from matplotlib) (11.0.0)\n",
            "Requirement already satisfied: pyparsing>=2.3.1 in /usr/local/lib/python3.10/dist-packages (from matplotlib) (3.2.0)\n",
            "Requirement already satisfied: python-dateutil>=2.7 in /usr/local/lib/python3.10/dist-packages (from matplotlib) (2.8.2)\n",
            "Requirement already satisfied: six>=1.5 in /usr/local/lib/python3.10/dist-packages (from python-dateutil>=2.7->matplotlib) (1.16.0)\n",
            "Downloading SpeechRecognition-3.12.0-py3-none-any.whl (32.8 MB)\n",
            "\u001b[2K   \u001b[90m━━━━━━━━━━━━━━━━━━━━━━━━━━━━━━━━━━━━━━━━\u001b[0m \u001b[32m32.8/32.8 MB\u001b[0m \u001b[31m11.4 MB/s\u001b[0m eta \u001b[36m0:00:00\u001b[0m\n",
            "\u001b[?25hInstalling collected packages: SpeechRecognition\n",
            "Successfully installed SpeechRecognition-3.12.0\n"
          ]
        }
      ]
    },
    {
      "cell_type": "code",
      "source": [
        "import speech_recognition as sr\n",
        "from pydub import AudioSegment\n",
        "import numpy as np\n",
        "import matplotlib.pyplot as plt\n",
        "\n",
        "# Path to your audio file\n",
        "audio_path = \"/content/ATC-Models/notebooks/processed_audio.wav\"\n",
        "\n",
        "# Initialize the recognizer\n",
        "recognizer = sr.Recognizer()\n",
        "\n",
        "# Function to transcribe audio to text\n",
        "def transcribe_audio(audio_path):\n",
        "    with sr.AudioFile(audio_path) as source:\n",
        "        audio = recognizer.record(source)  # Record the audio from the file\n",
        "        try:\n",
        "            text = recognizer.recognize_google(audio)  # Use Google's speech recognition\n",
        "            return text\n",
        "        except sr.UnknownValueError:\n",
        "            return \"Sorry, could not understand the audio.\"\n",
        "        except sr.RequestError as e:\n",
        "            return f\"Request error: {e}\"\n",
        "\n",
        "# Function to visualize the waveform of the audio\n",
        "def plot_waveform(audio_path):\n",
        "    # Load the audio file using pydub\n",
        "    sound = AudioSegment.from_wav(audio_path)\n",
        "\n",
        "    # Get the audio samples\n",
        "    samples = np.array(sound.get_array_of_samples())\n",
        "\n",
        "    # Plot the waveform\n",
        "    plt.figure(figsize=(10, 4))\n",
        "    plt.plot(samples)\n",
        "    plt.title(\"Audio Waveform\")\n",
        "    plt.xlabel(\"Time\")\n",
        "    plt.ylabel(\"Amplitude\")\n",
        "    plt.show()\n",
        "\n",
        "# Transcribe the audio\n",
        "transcription = transcribe_audio(audio_path)\n",
        "print(f\"Transcription: {transcription}\")\n",
        "\n",
        "# Visualize the audio waveform\n",
        "plot_waveform(audio_path)\n"
      ],
      "metadata": {
        "colab": {
          "base_uri": "https://localhost:8080/",
          "height": 439
        },
        "id": "0kHFq_l3KXzf",
        "outputId": "5d787c4f-63d3-4f95-d664-de35fb6949ca"
      },
      "id": "0kHFq_l3KXzf",
      "execution_count": 8,
      "outputs": [
        {
          "output_type": "stream",
          "name": "stdout",
          "text": [
            "Transcription: hey Google hey Google hey Google hey Google hey Google hey Google hey Google\n"
          ]
        },
        {
          "output_type": "display_data",
          "data": {
            "text/plain": [
              "<Figure size 1000x400 with 1 Axes>"
            ],
            "image/png": "[encoded data removed]"
          },
          "metadata": {}
        }
      ]
    },
    {
      "cell_type": "code",
      "source": [],
      "metadata": {
        "id": "wu_PtqXLMGhI"
      },
      "id": "wu_PtqXLMGhI",
      "execution_count": null,
      "outputs": []
    },
    {
      "cell_type": "code",
      "source": [
        "import speech_recognition as sr\n",
        "from pydub import AudioSegment\n",
        "import numpy as np\n",
        "import matplotlib.pyplot as plt\n",
        "\n",
        "# Path to your audio file\n",
        "audio_path = \"/content/ATC-Models/notebooks/processed_audio.wav\"\n",
        "\n",
        "# Initialize the recognizer\n",
        "recognizer = sr.Recognizer()\n",
        "\n",
        "# Function to transcribe audio to text\n",
        "def transcribe_audio(audio_path):\n",
        "    with sr.AudioFile(audio_path) as source:\n",
        "        audio = recognizer.record(source)  # Record the audio from the file\n",
        "        try:\n",
        "            text = recognizer.recognize_google(audio)  # Use Google's speech recognition\n",
        "            return text\n",
        "        except sr.UnknownValueError:\n",
        "            return \"Sorry, could not understand the audio.\"\n",
        "        except sr.RequestError as e:\n",
        "            return f\"Request error: {e}\"\n",
        "\n",
        "# Function to visualize the waveform of the audio\n",
        "def plot_waveform(audio_path):\n",
        "    # Load the audio file using pydub\n",
        "    sound = AudioSegment.from_wav(audio_path)\n",
        "\n",
        "    # Get the audio samples\n",
        "    samples = np.array(sound.get_array_of_samples())\n",
        "\n",
        "    # Plot the waveform\n",
        "    plt.figure(figsize=(10, 4))\n",
        "    plt.plot(samples)\n",
        "    plt.title(\"Audio Waveform\")\n",
        "    plt.xlabel(\"Time\")\n",
        "    plt.ylabel(\"Amplitude\")\n",
        "    plt.show()\n",
        "\n",
        "# Transcribe the audio\n",
        "transcription = transcribe_audio(audio_path)\n",
        "print(f\"Transcription: {transcription}\")\n",
        "\n",
        "# Visualize the audio waveform\n",
        "plot_waveform(audio_path)\n"
      ],
      "metadata": {
        "outputId": "5d787c4f-63d3-4f95-d664-de35fb6949ca",
        "colab": {
          "base_uri": "https://localhost:8080/",
          "height": 447
        },
        "id": "67-hvRbwMG4_"
      },
      "execution_count": null,
      "outputs": [
        {
          "output_type": "stream",
          "name": "stdout",
          "text": [
            "Transcription: hey Google hey Google hey Google hey Google hey Google hey Google hey Google\n"
          ]
        },
        {
          "output_type": "display_data",
          "data": {
            "text/plain": [
              "<Figure size 1000x400 with 1 Axes>"
            ],
            "image/png": "[encoded data removed]"
          },
          "metadata": {}
        }
      ],
      "id": "67-hvRbwMG4_"
    },
    {
      "cell_type": "code",
      "source": [],
      "metadata": {
        "id": "5gxVjpnQM9oR"
      },
      "id": "5gxVjpnQM9oR",
      "execution_count": null,
      "outputs": []
    },
    {
      "cell_type": "code",
      "source": [
        "import speech_recognition as sr\n",
        "from pydub import AudioSegment\n",
        "import numpy as np\n",
        "import matplotlib.pyplot as plt\n",
        "\n",
        "# Path to your audio file\n",
        "audio_path = \"/content/ATC-Models/data/tartanaviation/processed/processed_audio.wav\"\n",
        "\n",
        "# Initialize the recognizer\n",
        "recognizer = sr.Recognizer()\n",
        "\n",
        "# Function to transcribe audio to text\n",
        "def transcribe_audio(audio_path):\n",
        "    with sr.AudioFile(audio_path) as source:\n",
        "        audio = recognizer.record(source)  # Record the audio from the file\n",
        "        try:\n",
        "            text = recognizer.recognize_google(audio)  # Use Google's speech recognition\n",
        "            return text\n",
        "        except sr.UnknownValueError:\n",
        "            return \"Sorry, could not understand the audio.\"\n",
        "        except sr.RequestError as e:\n",
        "            return f\"Request error: {e}\"\n",
        "\n",
        "# Function to visualize the waveform of the audio\n",
        "def plot_waveform(audio_path):\n",
        "    # Load the audio file using pydub\n",
        "    sound = AudioSegment.from_wav(audio_path)\n",
        "\n",
        "    # Get the audio samples\n",
        "    samples = np.array(sound.get_array_of_samples())\n",
        "\n",
        "    # Plot the waveform\n",
        "    plt.figure(figsize=(10, 4))\n",
        "    plt.plot(samples)\n",
        "    plt.title(\"Audio Waveform\")\n",
        "    plt.xlabel(\"Time\")\n",
        "    plt.ylabel(\"Amplitude\")\n",
        "    plt.show()\n",
        "\n",
        "# Transcribe the audio\n",
        "transcription = transcribe_audio(audio_path)\n",
        "print(f\"Transcription: {transcription}\")\n",
        "\n",
        "# Visualize the audio waveform\n",
        "plot_waveform(audio_path)\n"
      ],
      "metadata": {
        "outputId": "7dd3c888-ac6e-4cad-92bc-2a2bf7a0aa51",
        "colab": {
          "base_uri": "https://localhost:8080/",
          "height": 439
        },
        "id": "yS1yvDaQNG_B"
      },
      "execution_count": 9,
      "outputs": [
        {
          "output_type": "stream",
          "name": "stdout",
          "text": [
            "Transcription: hey Google hey Google hey Google hey Google hey Google hey Google hey Google\n"
          ]
        },
        {
          "output_type": "display_data",
          "data": {
            "text/plain": [
              "<Figure size 1000x400 with 1 Axes>"
            ],
            "image/png": "[encoded data removed]"
          },
          "metadata": {}
        }
      ],
      "id": "yS1yvDaQNG_B"
    },
    {
      "cell_type": "code",
      "source": [],
      "metadata": {
        "id": "9i5QbIc2NsTh"
      },
      "id": "9i5QbIc2NsTh",
      "execution_count": null,
      "outputs": []
    },
    {
      "cell_type": "code",
      "source": [
        "import speech_recognition as sr\n",
        "from pydub import AudioSegment\n",
        "import numpy as np\n",
        "import matplotlib.pyplot as plt\n",
        "\n",
        "# Path to your audio file\n",
        "audio_path = \"/content/ATC-Models/data/tartanaviation/processed/8.wav\"\n",
        "\n",
        "# Initialize the recognizer\n",
        "recognizer = sr.Recognizer()\n",
        "\n",
        "# Function to transcribe audio to text\n",
        "def transcribe_audio(audio_path):\n",
        "    with sr.AudioFile(audio_path) as source:\n",
        "        audio = recognizer.record(source)  # Record the audio from the file\n",
        "        try:\n",
        "            text = recognizer.recognize_google(audio)  # Use Google's speech recognition\n",
        "            return text\n",
        "        except sr.UnknownValueError:\n",
        "            return \"Sorry, could not understand the audio.\"\n",
        "        except sr.RequestError as e:\n",
        "            return f\"Request error: {e}\"\n",
        "\n",
        "# Function to visualize the waveform of the audio\n",
        "def plot_waveform(audio_path):\n",
        "    # Load the audio file using pydub\n",
        "    sound = AudioSegment.from_wav(audio_path)\n",
        "\n",
        "    # Get the audio samples\n",
        "    samples = np.array(sound.get_array_of_samples())\n",
        "\n",
        "    # Plot the waveform\n",
        "    plt.figure(figsize=(10, 4))\n",
        "    plt.plot(samples)\n",
        "    plt.title(\"Audio Waveform\")\n",
        "    plt.xlabel(\"Time\")\n",
        "    plt.ylabel(\"Amplitude\")\n",
        "    plt.show()\n",
        "\n",
        "# Transcribe the audio\n",
        "transcription = transcribe_audio(audio_path)\n",
        "print(f\"Transcription: {transcription}\")\n",
        "\n",
        "# Visualize the audio waveform\n",
        "plot_waveform(audio_path)\n"
      ],
      "metadata": {
        "outputId": "a049361e-aa8c-444a-f877-74be9e0cf2d0",
        "colab": {
          "base_uri": "https://localhost:8080/",
          "height": 439
        },
        "id": "GjBPXbIbN9qL"
      },
      "execution_count": 12,
      "outputs": [
        {
          "output_type": "stream",
          "name": "stdout",
          "text": [
            "Transcription: weather traffic 79819 North Carolina\n"
          ]
        },
        {
          "output_type": "display_data",
          "data": {
            "text/plain": [
              "<Figure size 1000x400 with 1 Axes>"
            ],
            "image/png": "[encoded data removed]"
          },
          "metadata": {}
        }
      ],
      "id": "GjBPXbIbN9qL"
    },
    {
      "cell_type": "code",
      "source": [
        "import pandas as pd\n",
        "from sklearn.model_selection import train_test_split\n",
        "from sklearn.naive_bayes import GaussianNB # Changed to GaussianNB\n",
        "from sklearn.metrics import classification_report\n",
        "import nltk\n",
        "nltk.download('stopwords')\n",
        "from nltk.corpus import stopwords\n",
        "\n",
        "# Step 1: Load your CSV file into a pandas dataframe\n",
        "csv_file_path = '/content/ATC-Models/notebooks/Cleaned Data Files/cleaned_AGC.csv'  # Update this path as needed\n",
        "df = pd.read_csv(csv_file_path)\n",
        "\n",
        "# Display first few rows to understand the structure of your data\n",
        "print(df.head())\n",
        "\n",
        "# Step 2: Define the target variable (for example, based on 'wxcodes' column)\n",
        "df['weather_condition'] = df['wxcodes'].apply(lambda x: 'Snow' if 'SN' in x else ('Rain' if 'RA' in x else 'Clear'))\n",
        "\n",
        "# Step 3: Choose relevant features (e.g., `tmpf`, `dwpf`, `relh`, `drct`, etc.)\n",
        "# Here, we use a simple example of just `tmpf` and `relh` for prediction\n",
        "X = df[['tmpf', 'relh']]  # Features\n",
        "y = df['weather_condition']  # Target variable\n",
        "\n",
        "# Convert 'tmpf' and 'relh' columns to numeric, handling errors\n",
        "X['tmpf'] = pd.to_numeric(X['tmpf'], errors='coerce')\n",
        "X['relh'] = pd.to_numeric(X['relh'], errors='coerce')\n",
        "\n",
        "# Remove rows with missing values (NaN) in 'tmpf' or 'relh'\n",
        "X.dropna(subset=['tmpf', 'relh'], inplace=True)\n",
        "y = y[X.index]  # Update y to match the filtered X\n",
        "\n",
        "# Step 4: Train-Test Split\n",
        "X_train, X_test, y_train, y_test = train_test_split(X, y, test_size=0.3, random_state=42)\n",
        "\n",
        "# Step 5: Train a Gaussian Naive Bayes Classifier (better for continuous data)\n",
        "model = GaussianNB()  # Use GaussianNB for continuous data like tmpf and relh\n",
        "\n",
        "# Fit the model to the training data\n",
        "model.fit(X_train, y_train)\n",
        "\n",
        "# Step 6: Predict and Evaluate the Model\n",
        "y_pred = model.predict(X_test)\n",
        "\n",
        "# Print Classification Report\n",
        "print(classification_report(y_test, y_pred))\n",
        "\n",
        "# Step 7: Classify new data\n",
        "new_data = pd.DataFrame({'tmpf': [32.0], 'relh': [80]})  # Sample data to classify\n",
        "predicted_condition = model.predict(new_data)\n",
        "\n",
        "print(f\"Predicted weather condition: {predicted_condition[0]}\")"
      ],
      "metadata": {
        "colab": {
          "base_uri": "https://localhost:8080/"
        },
        "id": "jJW4qIzwSXAh",
        "outputId": "da919444-7ef9-48ba-8dae-c3a4df88cbbe"
      },
      "id": "jJW4qIzwSXAh",
      "execution_count": 21,
      "outputs": [
        {
          "output_type": "stream",
          "name": "stderr",
          "text": [
            "[nltk_data] Downloading package stopwords to /root/nltk_data...\n",
            "[nltk_data]   Package stopwords is already up-to-date!\n",
            "<ipython-input-21-bdbd9d2ae96a>:11: DtypeWarning: Columns (5,6,7,11) have mixed types. Specify dtype option on import or set low_memory=False.\n",
            "  df = pd.read_csv(csv_file_path)\n",
            "<ipython-input-21-bdbd9d2ae96a>:25: SettingWithCopyWarning: \n",
            "A value is trying to be set on a copy of a slice from a DataFrame.\n",
            "Try using .loc[row_indexer,col_indexer] = value instead\n",
            "\n",
            "See the caveats in the documentation: https://pandas.pydata.org/pandas-docs/stable/user_guide/indexing.html#returning-a-view-versus-a-copy\n",
            "  X['tmpf'] = pd.to_numeric(X['tmpf'], errors='coerce')\n",
            "<ipython-input-21-bdbd9d2ae96a>:26: SettingWithCopyWarning: \n",
            "A value is trying to be set on a copy of a slice from a DataFrame.\n",
            "Try using .loc[row_indexer,col_indexer] = value instead\n",
            "\n",
            "See the caveats in the documentation: https://pandas.pydata.org/pandas-docs/stable/user_guide/indexing.html#returning-a-view-versus-a-copy\n",
            "  X['relh'] = pd.to_numeric(X['relh'], errors='coerce')\n",
            "<ipython-input-21-bdbd9d2ae96a>:29: SettingWithCopyWarning: \n",
            "A value is trying to be set on a copy of a slice from a DataFrame\n",
            "\n",
            "See the caveats in the documentation: https://pandas.pydata.org/pandas-docs/stable/user_guide/indexing.html#returning-a-view-versus-a-copy\n",
            "  X.dropna(subset=['tmpf', 'relh'], inplace=True)\n"
          ]
        },
        {
          "output_type": "stream",
          "name": "stdout",
          "text": [
            "  station                valid      lon      lat  elevation   tmpf   dwpf  \\\n",
            "0     AGC  2020-01-01 00:42:00 -79.9217  40.3547      382.0  32.00  27.00   \n",
            "1     AGC  2020-01-01 00:53:00 -79.9217  40.3547      382.0  32.00  27.00   \n",
            "2     AGC  2020-01-01 01:32:00 -79.9217  40.3547      382.0  32.00  28.00   \n",
            "3     AGC  2020-01-01 01:49:00 -79.9217  40.3547      382.0  32.00  28.40   \n",
            "4     AGC  2020-01-01 01:53:00 -79.9217  40.3547      382.0  32.00  28.00   \n",
            "\n",
            "    relh    drct   sknt  ... wxcodes ice_accretion_1hr ice_accretion_3hr  \\\n",
            "0  81.55  240.00  16.00  ...     -SN                 M                 M   \n",
            "1  81.55  240.00  12.00  ...     -SN                 M                 M   \n",
            "2  84.98  240.00  14.00  ...  -SN BR                 M                 M   \n",
            "3  86.39  250.00  14.00  ...  -SN BR                 M                 M   \n",
            "4  84.98  250.00  15.00  ...  -SN BR                 M                 M   \n",
            "\n",
            "  ice_accretion_6hr peak_wind_gust peak_wind_drct    peak_wind_time   feel  \\\n",
            "0                 M          29.00         260.00  2020-01-01 00:05  20.42   \n",
            "1                 M          29.00         260.00  2020-01-01 00:05  22.00   \n",
            "2                 M          26.00         240.00  2020-01-01 01:10  21.16   \n",
            "3                 M          26.00         240.00  2020-01-01 01:10  21.16   \n",
            "4                 M          26.00         240.00  2020-01-01 01:10  20.78   \n",
            "\n",
            "                                               metar snowdepth  \n",
            "0  KAGC 010042Z 24016G23KT 2 1/2SM -SN SCT018 BKN...         M  \n",
            "1  KAGC 010053Z 24012G23KT 4SM -SN SCT018 BKN022 ...         M  \n",
            "2  KAGC 010132Z 24014G24KT 1 3/4SM -SN BR BKN017 ...         M  \n",
            "3  KAGC 010149Z 25014G23KT 3SM -SN BR BKN014 BKN0...         M  \n",
            "4  KAGC 010153Z 25015G26KT 3SM -SN BR SCT014 BKN0...         M  \n",
            "\n",
            "[5 rows x 33 columns]\n",
            "              precision    recall  f1-score   support\n",
            "\n",
            "       Clear       0.85      0.95      0.90      8909\n",
            "        Rain       0.52      0.14      0.22      1362\n",
            "        Snow       0.54      0.53      0.54       681\n",
            "\n",
            "    accuracy                           0.82     10952\n",
            "   macro avg       0.63      0.54      0.55     10952\n",
            "weighted avg       0.79      0.82      0.79     10952\n",
            "\n",
            "Predicted weather condition: Clear\n"
          ]
        }
      ]
    },
    {
      "cell_type": "code",
      "source": [],
      "metadata": {
        "id": "45kYp9tiSbou"
      },
      "id": "45kYp9tiSbou",
      "execution_count": null,
      "outputs": []
    },
    {
      "cell_type": "code",
      "source": [
        "import pandas as pd\n",
        "from sklearn.model_selection import train_test_split\n",
        "from sklearn.naive_bayes import GaussianNB # Changed to GaussianNB\n",
        "from sklearn.metrics import classification_report\n",
        "import nltk\n",
        "nltk.download('stopwords')\n",
        "from nltk.corpus import stopwords\n",
        "\n",
        "# Step 1: Load your CSV file into a pandas dataframe\n",
        "csv_file_path = '/content/ATC-Models/notebooks/Cleaned Data Files/cleaned_BTP.csv'  # Update this path as needed\n",
        "df = pd.read_csv(csv_file_path)\n",
        "\n",
        "# Display first few rows to understand the structure of your data\n",
        "print(df.head())\n",
        "\n",
        "# Step 2: Define the target variable (for example, based on 'wxcodes' column)\n",
        "df['weather_condition'] = df['wxcodes'].apply(lambda x: 'Snow' if 'SN' in x else ('Rain' if 'RA' in x else 'Clear'))\n",
        "\n",
        "# Step 3: Choose relevant features (e.g., `tmpf`, `dwpf`, `relh`, `drct`, etc.)\n",
        "# Here, we use a simple example of just `tmpf` and `relh` for prediction\n",
        "X = df[['tmpf', 'relh']]  # Features\n",
        "y = df['weather_condition']  # Target variable\n",
        "\n",
        "# Convert 'tmpf' and 'relh' columns to numeric, handling errors\n",
        "X['tmpf'] = pd.to_numeric(X['tmpf'], errors='coerce')\n",
        "X['relh'] = pd.to_numeric(X['relh'], errors='coerce')\n",
        "\n",
        "# Remove rows with missing values (NaN) in 'tmpf' or 'relh'\n",
        "X.dropna(subset=['tmpf', 'relh'], inplace=True)\n",
        "y = y[X.index]  # Update y to match the filtered X\n",
        "\n",
        "# Step 4: Train-Test Split\n",
        "X_train, X_test, y_train, y_test = train_test_split(X, y, test_size=0.3, random_state=42)\n",
        "\n",
        "# Step 5: Train a Gaussian Naive Bayes Classifier (better for continuous data)\n",
        "model = GaussianNB()  # Use GaussianNB for continuous data like tmpf and relh\n",
        "\n",
        "# Fit the model to the training data\n",
        "model.fit(X_train, y_train)\n",
        "\n",
        "# Step 6: Predict and Evaluate the Model\n",
        "y_pred = model.predict(X_test)\n",
        "\n",
        "# Print Classification Report\n",
        "print(classification_report(y_test, y_pred))\n",
        "\n",
        "# Step 7: Classify new data\n",
        "new_data = pd.DataFrame({'tmpf': [32.0], 'relh': [80]})  # Sample data to classify\n",
        "predicted_condition = model.predict(new_data)\n",
        "\n",
        "print(f\"Predicted weather condition: {predicted_condition[0]}\")"
      ],
      "metadata": {
        "outputId": "f7a2f843-4205-4f3d-cb71-e1e2dcf0244f",
        "colab": {
          "base_uri": "https://localhost:8080/"
        },
        "id": "PXXVf6yPSpi7"
      },
      "execution_count": 22,
      "outputs": [
        {
          "output_type": "stream",
          "name": "stderr",
          "text": [
            "[nltk_data] Downloading package stopwords to /root/nltk_data...\n",
            "[nltk_data]   Package stopwords is already up-to-date!\n",
            "<ipython-input-22-5bb6df48cce5>:11: DtypeWarning: Columns (5,6,7,13) have mixed types. Specify dtype option on import or set low_memory=False.\n",
            "  df = pd.read_csv(csv_file_path)\n",
            "<ipython-input-22-5bb6df48cce5>:25: SettingWithCopyWarning: \n",
            "A value is trying to be set on a copy of a slice from a DataFrame.\n",
            "Try using .loc[row_indexer,col_indexer] = value instead\n",
            "\n",
            "See the caveats in the documentation: https://pandas.pydata.org/pandas-docs/stable/user_guide/indexing.html#returning-a-view-versus-a-copy\n",
            "  X['tmpf'] = pd.to_numeric(X['tmpf'], errors='coerce')\n",
            "<ipython-input-22-5bb6df48cce5>:26: SettingWithCopyWarning: \n",
            "A value is trying to be set on a copy of a slice from a DataFrame.\n",
            "Try using .loc[row_indexer,col_indexer] = value instead\n",
            "\n",
            "See the caveats in the documentation: https://pandas.pydata.org/pandas-docs/stable/user_guide/indexing.html#returning-a-view-versus-a-copy\n",
            "  X['relh'] = pd.to_numeric(X['relh'], errors='coerce')\n",
            "<ipython-input-22-5bb6df48cce5>:29: SettingWithCopyWarning: \n",
            "A value is trying to be set on a copy of a slice from a DataFrame\n",
            "\n",
            "See the caveats in the documentation: https://pandas.pydata.org/pandas-docs/stable/user_guide/indexing.html#returning-a-view-versus-a-copy\n",
            "  X.dropna(subset=['tmpf', 'relh'], inplace=True)\n"
          ]
        },
        {
          "output_type": "stream",
          "name": "stdout",
          "text": [
            "  station                valid      lon      lat  elevation   tmpf   dwpf  \\\n",
            "0     BTP  2020-01-01 00:05:00 -79.9497  40.7769      380.0  30.20  28.40   \n",
            "1     BTP  2020-01-01 00:17:00 -79.9497  40.7769      380.0  30.20  28.40   \n",
            "2     BTP  2020-01-01 00:31:00 -79.9497  40.7769      380.0  30.20  28.40   \n",
            "3     BTP  2020-01-01 00:56:00 -79.9497  40.7769      380.0  30.00  28.90   \n",
            "4     BTP  2020-01-01 00:59:00 -79.9497  40.7769      380.0  30.20  28.40   \n",
            "\n",
            "    relh    drct   sknt  ... wxcodes ice_accretion_1hr ice_accretion_3hr  \\\n",
            "0  92.92  260.00   8.00  ...  -SN BR                 M                 M   \n",
            "1  92.92  250.00   8.00  ...  -SN BR                 M                 M   \n",
            "2  92.92  240.00  10.00  ...  -SN BR                 M                 M   \n",
            "3  95.61  290.00   8.00  ...  -SN BR                 M                 M   \n",
            "4  92.92  270.00   8.00  ...  -SN BR                 M                 M   \n",
            "\n",
            "  ice_accretion_6hr peak_wind_gust peak_wind_drct peak_wind_time   feel  \\\n",
            "0                 M              M              M              M  21.90   \n",
            "1                 M              M              M              M  21.90   \n",
            "2                 M              M              M              M  20.71   \n",
            "3                 M              M              M              M  21.65   \n",
            "4                 M              M              M              M  21.90   \n",
            "\n",
            "                                               metar snowdepth  \n",
            "0  KBTP 010005Z AUTO 26008KT 2 1/2SM -SN BR BKN00...         M  \n",
            "1  KBTP 010017Z AUTO 25008KT 1 1/2SM -SN BR BKN00...         M  \n",
            "2  KBTP 010031Z AUTO 24010KT 3SM -SN BR BKN006 OV...         M  \n",
            "3  KBTP 010056Z AUTO 29008G18KT 1 1/4SM -SN BR FE...         M  \n",
            "4  KBTP 010059Z AUTO 27008G18KT 3/4SM -SN BR SCT0...         M  \n",
            "\n",
            "[5 rows x 33 columns]\n"
          ]
        },
        {
          "output_type": "stream",
          "name": "stderr",
          "text": [
            "/usr/local/lib/python3.10/dist-packages/sklearn/metrics/_classification.py:1531: UndefinedMetricWarning: Precision is ill-defined and being set to 0.0 in labels with no predicted samples. Use `zero_division` parameter to control this behavior.\n",
            "  _warn_prf(average, modifier, f\"{metric.capitalize()} is\", len(result))\n",
            "/usr/local/lib/python3.10/dist-packages/sklearn/metrics/_classification.py:1531: UndefinedMetricWarning: Precision is ill-defined and being set to 0.0 in labels with no predicted samples. Use `zero_division` parameter to control this behavior.\n",
            "  _warn_prf(average, modifier, f\"{metric.capitalize()} is\", len(result))\n"
          ]
        },
        {
          "output_type": "stream",
          "name": "stdout",
          "text": [
            "              precision    recall  f1-score   support\n",
            "\n",
            "       Clear       0.83      0.94      0.88      8142\n",
            "        Rain       0.00      0.00      0.00      1206\n",
            "        Snow       0.52      0.59      0.55       913\n",
            "\n",
            "    accuracy                           0.80     10261\n",
            "   macro avg       0.45      0.51      0.48     10261\n",
            "weighted avg       0.70      0.80      0.75     10261\n",
            "\n",
            "Predicted weather condition: Clear\n"
          ]
        },
        {
          "output_type": "stream",
          "name": "stderr",
          "text": [
            "/usr/local/lib/python3.10/dist-packages/sklearn/metrics/_classification.py:1531: UndefinedMetricWarning: Precision is ill-defined and being set to 0.0 in labels with no predicted samples. Use `zero_division` parameter to control this behavior.\n",
            "  _warn_prf(average, modifier, f\"{metric.capitalize()} is\", len(result))\n"
          ]
        }
      ],
      "id": "PXXVf6yPSpi7"
    },
    {
      "cell_type": "code",
      "source": [
        "!pip install tensorflow\n"
      ],
      "metadata": {
        "colab": {
          "base_uri": "https://localhost:8080/"
        },
        "id": "CxcGaIhJ_UoU",
        "outputId": "051d048a-5e34-41ef-ec51-080325ddea58"
      },
      "id": "CxcGaIhJ_UoU",
      "execution_count": 1,
      "outputs": [
        {
          "output_type": "stream",
          "name": "stdout",
          "text": [
            "Requirement already satisfied: tensorflow in /usr/local/lib/python3.10/dist-packages (2.17.1)\n",
            "Requirement already satisfied: absl-py>=1.0.0 in /usr/local/lib/python3.10/dist-packages (from tensorflow) (1.4.0)\n",
            "Requirement already satisfied: astunparse>=1.6.0 in /usr/local/lib/python3.10/dist-packages (from tensorflow) (1.6.3)\n",
            "Requirement already satisfied: flatbuffers>=24.3.25 in /usr/local/lib/python3.10/dist-packages (from tensorflow) (24.3.25)\n",
            "Requirement already satisfied: gast!=0.5.0,!=0.5.1,!=0.5.2,>=0.2.1 in /usr/local/lib/python3.10/dist-packages (from tensorflow) (0.6.0)\n",
            "Requirement already satisfied: google-pasta>=0.1.1 in /usr/local/lib/python3.10/dist-packages (from tensorflow) (0.2.0)\n",
            "Requirement already satisfied: h5py>=3.10.0 in /usr/local/lib/python3.10/dist-packages (from tensorflow) (3.12.1)\n",
            "Requirement already satisfied: libclang>=13.0.0 in /usr/local/lib/python3.10/dist-packages (from tensorflow) (18.1.1)\n",
            "Requirement already satisfied: ml-dtypes<0.5.0,>=0.3.1 in /usr/local/lib/python3.10/dist-packages (from tensorflow) (0.4.1)\n",
            "Requirement already satisfied: opt-einsum>=2.3.2 in /usr/local/lib/python3.10/dist-packages (from tensorflow) (3.4.0)\n",
            "Requirement already satisfied: packaging in /usr/local/lib/python3.10/dist-packages (from tensorflow) (24.2)\n",
            "Requirement already satisfied: protobuf!=4.21.0,!=4.21.1,!=4.21.2,!=4.21.3,!=4.21.4,!=4.21.5,<5.0.0dev,>=3.20.3 in /usr/local/lib/python3.10/dist-packages (from tensorflow) (4.25.5)\n",
            "Requirement already satisfied: requests<3,>=2.21.0 in /usr/local/lib/python3.10/dist-packages (from tensorflow) (2.32.3)\n",
            "Requirement already satisfied: setuptools in /usr/local/lib/python3.10/dist-packages (from tensorflow) (75.1.0)\n",
            "Requirement already satisfied: six>=1.12.0 in /usr/local/lib/python3.10/dist-packages (from tensorflow) (1.16.0)\n",
            "Requirement already satisfied: termcolor>=1.1.0 in /usr/local/lib/python3.10/dist-packages (from tensorflow) (2.5.0)\n",
            "Requirement already satisfied: typing-extensions>=3.6.6 in /usr/local/lib/python3.10/dist-packages (from tensorflow) (4.12.2)\n",
            "Requirement already satisfied: wrapt>=1.11.0 in /usr/local/lib/python3.10/dist-packages (from tensorflow) (1.17.0)\n",
            "Requirement already satisfied: grpcio<2.0,>=1.24.3 in /usr/local/lib/python3.10/dist-packages (from tensorflow) (1.68.1)\n",
            "Requirement already satisfied: tensorboard<2.18,>=2.17 in /usr/local/lib/python3.10/dist-packages (from tensorflow) (2.17.1)\n",
            "Requirement already satisfied: keras>=3.2.0 in /usr/local/lib/python3.10/dist-packages (from tensorflow) (3.5.0)\n",
            "Requirement already satisfied: tensorflow-io-gcs-filesystem>=0.23.1 in /usr/local/lib/python3.10/dist-packages (from tensorflow) (0.37.1)\n",
            "Requirement already satisfied: numpy<2.0.0,>=1.23.5 in /usr/local/lib/python3.10/dist-packages (from tensorflow) (1.26.4)\n",
            "Requirement already satisfied: wheel<1.0,>=0.23.0 in /usr/local/lib/python3.10/dist-packages (from astunparse>=1.6.0->tensorflow) (0.45.1)\n",
            "Requirement already satisfied: rich in /usr/local/lib/python3.10/dist-packages (from keras>=3.2.0->tensorflow) (13.9.4)\n",
            "Requirement already satisfied: namex in /usr/local/lib/python3.10/dist-packages (from keras>=3.2.0->tensorflow) (0.0.8)\n",
            "Requirement already satisfied: optree in /usr/local/lib/python3.10/dist-packages (from keras>=3.2.0->tensorflow) (0.13.1)\n",
            "Requirement already satisfied: charset-normalizer<4,>=2 in /usr/local/lib/python3.10/dist-packages (from requests<3,>=2.21.0->tensorflow) (3.4.0)\n",
            "Requirement already satisfied: idna<4,>=2.5 in /usr/local/lib/python3.10/dist-packages (from requests<3,>=2.21.0->tensorflow) (3.10)\n",
            "Requirement already satisfied: urllib3<3,>=1.21.1 in /usr/local/lib/python3.10/dist-packages (from requests<3,>=2.21.0->tensorflow) (2.2.3)\n",
            "Requirement already satisfied: certifi>=2017.4.17 in /usr/local/lib/python3.10/dist-packages (from requests<3,>=2.21.0->tensorflow) (2024.8.30)\n",
            "Requirement already satisfied: markdown>=2.6.8 in /usr/local/lib/python3.10/dist-packages (from tensorboard<2.18,>=2.17->tensorflow) (3.7)\n",
            "Requirement already satisfied: tensorboard-data-server<0.8.0,>=0.7.0 in /usr/local/lib/python3.10/dist-packages (from tensorboard<2.18,>=2.17->tensorflow) (0.7.2)\n",
            "Requirement already satisfied: werkzeug>=1.0.1 in /usr/local/lib/python3.10/dist-packages (from tensorboard<2.18,>=2.17->tensorflow) (3.1.3)\n",
            "Requirement already satisfied: MarkupSafe>=2.1.1 in /usr/local/lib/python3.10/dist-packages (from werkzeug>=1.0.1->tensorboard<2.18,>=2.17->tensorflow) (3.0.2)\n",
            "Requirement already satisfied: markdown-it-py>=2.2.0 in /usr/local/lib/python3.10/dist-packages (from rich->keras>=3.2.0->tensorflow) (3.0.0)\n",
            "Requirement already satisfied: pygments<3.0.0,>=2.13.0 in /usr/local/lib/python3.10/dist-packages (from rich->keras>=3.2.0->tensorflow) (2.18.0)\n",
            "Requirement already satisfied: mdurl~=0.1 in /usr/local/lib/python3.10/dist-packages (from markdown-it-py>=2.2.0->rich->keras>=3.2.0->tensorflow) (0.1.2)\n"
          ]
        }
      ]
    },
    {
      "cell_type": "code",
      "source": [
        "import pandas as pd\n",
        "import numpy as np\n",
        "import tensorflow as tf\n",
        "from sklearn.model_selection import train_test_split\n",
        "from sklearn.preprocessing import LabelEncoder, MinMaxScaler\n",
        "\n",
        "from tensorflow.keras.models import Sequential\n",
        "from tensorflow.keras.layers import SimpleRNN, Dense, Dropout\n"
      ],
      "metadata": {
        "id": "39FgBwtdA1Zz"
      },
      "id": "39FgBwtdA1Zz",
      "execution_count": 4,
      "outputs": []
    },
    {
      "cell_type": "code",
      "source": [
        "import pandas as pd\n",
        "import numpy as np\n",
        "import tensorflow as tf\n",
        "from sklearn.model_selection import train_test_split\n",
        "from sklearn.preprocessing import LabelEncoder, MinMaxScaler\n",
        "\n",
        "from tensorflow.keras.models import Sequential\n",
        "from tensorflow.keras.layers import SimpleRNN, Dense, Dropout\n",
        "\n",
        "# Step 1: Load the data\n",
        "csv_file_path = '/content/ATC-Models/notebooks/processed_audio.wav'\n",
        "df = pd.read_csv(csv_file_path)\n",
        "\n",
        "# Step 2: Data Cleaning\n",
        "df = df[['tmpf', 'relh', 'drct', 'wxcodes']]  # Choose the features and the target\n",
        "df = df.dropna()  # Drop missing values\n",
        "\n",
        "# Step 3: Create target variable\n",
        "# Convert 'wxcodes' into simple categories like Rain, Snow, or Clear\n",
        "df['weather_condition'] = df['wxcodes'].apply(lambda x: 'Snow' if 'SN' in x else ('Rain' if 'RA' in x else 'Clear'))\n",
        "\n",
        "# Step 4: Encode the target labels into numbers (0 = Clear, 1 = Rain, 2 = Snow)\n",
        "label_encoder = LabelEncoder()\n",
        "df['weather_condition'] = label_encoder.fit_transform(df['weather_condition'])\n",
        "\n",
        "# Step 5: Feature selection (X) and target (y)\n",
        "X = df[['tmpf', 'relh', 'drct']].values  # Features\n",
        "y = df['weather_condition'].values  # Target variable\n",
        "\n",
        "# Step 6: Normalize features (between 0 and 1)\n",
        "scaler = MinMaxScaler()\n",
        "X = scaler.fit_transform(X)\n",
        "\n",
        "# Step 7: Reshape X for RNN (RNN expects 3D data: (samples, time_steps, features))\n",
        "# Here, we treat each row as a \"time step\" for simplicity, so we'll reshape (n_samples, 1, n_features)\n",
        "X = X.reshape((X.shape[0], 1, X.shape[1]))\n",
        "\n",
        "# Step 8: Split data into training and testing sets\n",
        "X_train, X_test, y_train, y_test = train_test_split(X, y, test_size=0.2, random_state=42)\n",
        "\n",
        "# Step 9: Build RNN model\n",
        "model = Sequential()\n",
        "model.add(SimpleRNN(units=32, activation='relu', input_shape=(X_train.shape[1], X_train.shape[2])))\n",
        "model.add(Dropout(0.2))\n",
        "model.add(Dense(units=32, activation='relu'))\n",
        "model.add(Dense(units=3, activation='softmax'))  # 3 classes (Clear, Rain, Snow)\n",
        "\n",
        "# Step 10: Compile the model\n",
        "model.compile(optimizer='adam', loss='sparse_categorical_crossentropy', metrics=['accuracy'])\n",
        "\n",
        "# Step 11: Train the RNN\n",
        "history = model.fit(X_train, y_train, epochs=20, batch_size=32, validation_split=0.2)\n",
        "\n",
        "# Step 12: Evaluate the RNN\n",
        "test_loss, test_accuracy = model.evaluate(X_test, y_test)\n",
        "print(f\"Test Loss: {test_loss}\")\n",
        "print(f\"Test Accuracy: {test_accuracy}\")\n",
        "\n",
        "# Step 13: Predict on new data\n",
        "new_data = np.array([[30.0, 80, 250]])  # Temperature, humidity, wind direction\n",
        "new_data = scaler.transform(new_data)  # Normalize\n",
        "new_data = new_data.reshape((1, 1, 3))  # Reshape to (samples, time_steps, features)\n",
        "predicted_condition = model.predict(new_data)\n",
        "predicted_class = np.argmax(predicted_condition)\n",
        "\n",
        "# Decode the predicted label back to the weather condition\n",
        "predicted_label = label_encoder.inverse_transform([predicted_class])\n",
        "print(f\"Predicted weather condition: {predicted_label[0]}\")\n",
        "\n"
      ],
      "metadata": {
        "colab": {
          "base_uri": "https://localhost:8080/",
          "height": 550
        },
        "id": "J9CcR6FbBedE",
        "outputId": "26fc196b-a574-47aa-9921-0e3e708b9355"
      },
      "id": "J9CcR6FbBedE",
      "execution_count": 8,
      "outputs": [
        {
          "output_type": "error",
          "ename": "UnicodeDecodeError",
          "evalue": "'utf-8' codec can't decode byte 0x9f in position 6: invalid start byte",
          "traceback": [
            "\u001b[0;31m---------------------------------------------------------------------------\u001b[0m",
            "\u001b[0;31mUnicodeDecodeError\u001b[0m                        Traceback (most recent call last)",
            "\u001b[0;32m<ipython-input-8-155d4c02c47f>\u001b[0m in \u001b[0;36m<cell line: 12>\u001b[0;34m()\u001b[0m\n\u001b[1;32m     10\u001b[0m \u001b[0;31m# Step 1: Load the data\u001b[0m\u001b[0;34m\u001b[0m\u001b[0;34m\u001b[0m\u001b[0m\n\u001b[1;32m     11\u001b[0m \u001b[0mcsv_file_path\u001b[0m \u001b[0;34m=\u001b[0m \u001b[0;34m'/content/ATC-Models/notebooks/processed_audio.wav'\u001b[0m\u001b[0;34m\u001b[0m\u001b[0;34m\u001b[0m\u001b[0m\n\u001b[0;32m---> 12\u001b[0;31m \u001b[0mdf\u001b[0m \u001b[0;34m=\u001b[0m \u001b[0mpd\u001b[0m\u001b[0;34m.\u001b[0m\u001b[0mread_csv\u001b[0m\u001b[0;34m(\u001b[0m\u001b[0mcsv_file_path\u001b[0m\u001b[0;34m)\u001b[0m\u001b[0;34m\u001b[0m\u001b[0;34m\u001b[0m\u001b[0m\n\u001b[0m\u001b[1;32m     13\u001b[0m \u001b[0;34m\u001b[0m\u001b[0m\n\u001b[1;32m     14\u001b[0m \u001b[0;31m# Step 2: Data Cleaning\u001b[0m\u001b[0;34m\u001b[0m\u001b[0;34m\u001b[0m\u001b[0m\n",
            "\u001b[0;32m/usr/local/lib/python3.10/dist-packages/pandas/io/parsers/readers.py\u001b[0m in \u001b[0;36mread_csv\u001b[0;34m(filepath_or_buffer, sep, delimiter, header, names, index_col, usecols, dtype, engine, converters, true_values, false_values, skipinitialspace, skiprows, skipfooter, nrows, na_values, keep_default_na, na_filter, verbose, skip_blank_lines, parse_dates, infer_datetime_format, keep_date_col, date_parser, date_format, dayfirst, cache_dates, iterator, chunksize, compression, thousands, decimal, lineterminator, quotechar, quoting, doublequote, escapechar, comment, encoding, encoding_errors, dialect, on_bad_lines, delim_whitespace, low_memory, memory_map, float_precision, storage_options, dtype_backend)\u001b[0m\n\u001b[1;32m   1024\u001b[0m     \u001b[0mkwds\u001b[0m\u001b[0;34m.\u001b[0m\u001b[0mupdate\u001b[0m\u001b[0;34m(\u001b[0m\u001b[0mkwds_defaults\u001b[0m\u001b[0;34m)\u001b[0m\u001b[0;34m\u001b[0m\u001b[0;34m\u001b[0m\u001b[0m\n\u001b[1;32m   1025\u001b[0m \u001b[0;34m\u001b[0m\u001b[0m\n\u001b[0;32m-> 1026\u001b[0;31m     \u001b[0;32mreturn\u001b[0m \u001b[0m_read\u001b[0m\u001b[0;34m(\u001b[0m\u001b[0mfilepath_or_buffer\u001b[0m\u001b[0;34m,\u001b[0m \u001b[0mkwds\u001b[0m\u001b[0;34m)\u001b[0m\u001b[0;34m\u001b[0m\u001b[0;34m\u001b[0m\u001b[0m\n\u001b[0m\u001b[1;32m   1027\u001b[0m \u001b[0;34m\u001b[0m\u001b[0m\n\u001b[1;32m   1028\u001b[0m \u001b[0;34m\u001b[0m\u001b[0m\n",
            "\u001b[0;32m/usr/local/lib/python3.10/dist-packages/pandas/io/parsers/readers.py\u001b[0m in \u001b[0;36m_read\u001b[0;34m(filepath_or_buffer, kwds)\u001b[0m\n\u001b[1;32m    618\u001b[0m \u001b[0;34m\u001b[0m\u001b[0m\n\u001b[1;32m    619\u001b[0m     \u001b[0;31m# Create the parser.\u001b[0m\u001b[0;34m\u001b[0m\u001b[0;34m\u001b[0m\u001b[0m\n\u001b[0;32m--> 620\u001b[0;31m     \u001b[0mparser\u001b[0m \u001b[0;34m=\u001b[0m \u001b[0mTextFileReader\u001b[0m\u001b[0;34m(\u001b[0m\u001b[0mfilepath_or_buffer\u001b[0m\u001b[0;34m,\u001b[0m \u001b[0;34m**\u001b[0m\u001b[0mkwds\u001b[0m\u001b[0;34m)\u001b[0m\u001b[0;34m\u001b[0m\u001b[0;34m\u001b[0m\u001b[0m\n\u001b[0m\u001b[1;32m    621\u001b[0m \u001b[0;34m\u001b[0m\u001b[0m\n\u001b[1;32m    622\u001b[0m     \u001b[0;32mif\u001b[0m \u001b[0mchunksize\u001b[0m \u001b[0;32mor\u001b[0m \u001b[0miterator\u001b[0m\u001b[0;34m:\u001b[0m\u001b[0;34m\u001b[0m\u001b[0;34m\u001b[0m\u001b[0m\n",
            "\u001b[0;32m/usr/local/lib/python3.10/dist-packages/pandas/io/parsers/readers.py\u001b[0m in \u001b[0;36m__init__\u001b[0;34m(self, f, engine, **kwds)\u001b[0m\n\u001b[1;32m   1618\u001b[0m \u001b[0;34m\u001b[0m\u001b[0m\n\u001b[1;32m   1619\u001b[0m         \u001b[0mself\u001b[0m\u001b[0;34m.\u001b[0m\u001b[0mhandles\u001b[0m\u001b[0;34m:\u001b[0m \u001b[0mIOHandles\u001b[0m \u001b[0;34m|\u001b[0m \u001b[0;32mNone\u001b[0m \u001b[0;34m=\u001b[0m \u001b[0;32mNone\u001b[0m\u001b[0;34m\u001b[0m\u001b[0;34m\u001b[0m\u001b[0m\n\u001b[0;32m-> 1620\u001b[0;31m         \u001b[0mself\u001b[0m\u001b[0;34m.\u001b[0m\u001b[0m_engine\u001b[0m \u001b[0;34m=\u001b[0m \u001b[0mself\u001b[0m\u001b[0;34m.\u001b[0m\u001b[0m_make_engine\u001b[0m\u001b[0;34m(\u001b[0m\u001b[0mf\u001b[0m\u001b[0;34m,\u001b[0m \u001b[0mself\u001b[0m\u001b[0;34m.\u001b[0m\u001b[0mengine\u001b[0m\u001b[0;34m)\u001b[0m\u001b[0;34m\u001b[0m\u001b[0;34m\u001b[0m\u001b[0m\n\u001b[0m\u001b[1;32m   1621\u001b[0m \u001b[0;34m\u001b[0m\u001b[0m\n\u001b[1;32m   1622\u001b[0m     \u001b[0;32mdef\u001b[0m \u001b[0mclose\u001b[0m\u001b[0;34m(\u001b[0m\u001b[0mself\u001b[0m\u001b[0;34m)\u001b[0m \u001b[0;34m->\u001b[0m \u001b[0;32mNone\u001b[0m\u001b[0;34m:\u001b[0m\u001b[0;34m\u001b[0m\u001b[0;34m\u001b[0m\u001b[0m\n",
            "\u001b[0;32m/usr/local/lib/python3.10/dist-packages/pandas/io/parsers/readers.py\u001b[0m in \u001b[0;36m_make_engine\u001b[0;34m(self, f, engine)\u001b[0m\n\u001b[1;32m   1896\u001b[0m \u001b[0;34m\u001b[0m\u001b[0m\n\u001b[1;32m   1897\u001b[0m         \u001b[0;32mtry\u001b[0m\u001b[0;34m:\u001b[0m\u001b[0;34m\u001b[0m\u001b[0;34m\u001b[0m\u001b[0m\n\u001b[0;32m-> 1898\u001b[0;31m             \u001b[0;32mreturn\u001b[0m \u001b[0mmapping\u001b[0m\u001b[0;34m[\u001b[0m\u001b[0mengine\u001b[0m\u001b[0;34m]\u001b[0m\u001b[0;34m(\u001b[0m\u001b[0mf\u001b[0m\u001b[0;34m,\u001b[0m \u001b[0;34m**\u001b[0m\u001b[0mself\u001b[0m\u001b[0;34m.\u001b[0m\u001b[0moptions\u001b[0m\u001b[0;34m)\u001b[0m\u001b[0;34m\u001b[0m\u001b[0;34m\u001b[0m\u001b[0m\n\u001b[0m\u001b[1;32m   1899\u001b[0m         \u001b[0;32mexcept\u001b[0m \u001b[0mException\u001b[0m\u001b[0;34m:\u001b[0m\u001b[0;34m\u001b[0m\u001b[0;34m\u001b[0m\u001b[0m\n\u001b[1;32m   1900\u001b[0m             \u001b[0;32mif\u001b[0m \u001b[0mself\u001b[0m\u001b[0;34m.\u001b[0m\u001b[0mhandles\u001b[0m \u001b[0;32mis\u001b[0m \u001b[0;32mnot\u001b[0m \u001b[0;32mNone\u001b[0m\u001b[0;34m:\u001b[0m\u001b[0;34m\u001b[0m\u001b[0;34m\u001b[0m\u001b[0m\n",
            "\u001b[0;32m/usr/local/lib/python3.10/dist-packages/pandas/io/parsers/c_parser_wrapper.py\u001b[0m in \u001b[0;36m__init__\u001b[0;34m(self, src, **kwds)\u001b[0m\n\u001b[1;32m     91\u001b[0m             \u001b[0;31m# Fail here loudly instead of in cython after reading\u001b[0m\u001b[0;34m\u001b[0m\u001b[0;34m\u001b[0m\u001b[0m\n\u001b[1;32m     92\u001b[0m             \u001b[0mimport_optional_dependency\u001b[0m\u001b[0;34m(\u001b[0m\u001b[0;34m\"pyarrow\"\u001b[0m\u001b[0;34m)\u001b[0m\u001b[0;34m\u001b[0m\u001b[0;34m\u001b[0m\u001b[0m\n\u001b[0;32m---> 93\u001b[0;31m         \u001b[0mself\u001b[0m\u001b[0;34m.\u001b[0m\u001b[0m_reader\u001b[0m \u001b[0;34m=\u001b[0m \u001b[0mparsers\u001b[0m\u001b[0;34m.\u001b[0m\u001b[0mTextReader\u001b[0m\u001b[0;34m(\u001b[0m\u001b[0msrc\u001b[0m\u001b[0;34m,\u001b[0m \u001b[0;34m**\u001b[0m\u001b[0mkwds\u001b[0m\u001b[0;34m)\u001b[0m\u001b[0;34m\u001b[0m\u001b[0;34m\u001b[0m\u001b[0m\n\u001b[0m\u001b[1;32m     94\u001b[0m \u001b[0;34m\u001b[0m\u001b[0m\n\u001b[1;32m     95\u001b[0m         \u001b[0mself\u001b[0m\u001b[0;34m.\u001b[0m\u001b[0munnamed_cols\u001b[0m \u001b[0;34m=\u001b[0m \u001b[0mself\u001b[0m\u001b[0;34m.\u001b[0m\u001b[0m_reader\u001b[0m\u001b[0;34m.\u001b[0m\u001b[0munnamed_cols\u001b[0m\u001b[0;34m\u001b[0m\u001b[0;34m\u001b[0m\u001b[0m\n",
            "\u001b[0;32mparsers.pyx\u001b[0m in \u001b[0;36mpandas._libs.parsers.TextReader.__cinit__\u001b[0;34m()\u001b[0m\n",
            "\u001b[0;32mparsers.pyx\u001b[0m in \u001b[0;36mpandas._libs.parsers.TextReader._get_header\u001b[0;34m()\u001b[0m\n",
            "\u001b[0;32mparsers.pyx\u001b[0m in \u001b[0;36mpandas._libs.parsers.TextReader._tokenize_rows\u001b[0;34m()\u001b[0m\n",
            "\u001b[0;32mparsers.pyx\u001b[0m in \u001b[0;36mpandas._libs.parsers.TextReader._check_tokenize_status\u001b[0;34m()\u001b[0m\n",
            "\u001b[0;32mparsers.pyx\u001b[0m in \u001b[0;36mpandas._libs.parsers.raise_parser_error\u001b[0;34m()\u001b[0m\n",
            "\u001b[0;31mUnicodeDecodeError\u001b[0m: 'utf-8' codec can't decode byte 0x9f in position 6: invalid start byte"
          ]
        }
      ]
    }
  ],
  "metadata": {
    "kernelspec": {
      "display_name": "Python 3 (ipykernel)",
      "language": "python",
      "name": "python3"
    },
    "language_info": {
      "codemirror_mode": {
        "name": "ipython",
        "version": 3
      },
      "file_extension": ".py",
      "mimetype": "text/x-python",
      "name": "python",
      "nbconvert_exporter": "python",
      "pygments_lexer": "ipython3",
      "version": "3.12.5"
    },
    "colab": {
      "provenance": [],
      "include_colab_link": true
    }
  },
  "nbformat": 4,
  "nbformat_minor": 5
}