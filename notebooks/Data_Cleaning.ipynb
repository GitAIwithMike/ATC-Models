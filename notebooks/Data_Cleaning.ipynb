{
 "cells": [
  {
   "cell_type": "code",
   "execution_count": 11,
   "id": "bb854f48-af42-4dc6-9b9a-e593a31d7452",
   "metadata": {},
   "outputs": [
    {
     "name": "stdout",
     "output_type": "stream",
     "text": [
      "Data cleaned and saved!\n"
     ]
    }
   ],
   "source": [
    "import pandas as pd\n",
    "import os\n",
    "\n",
    "# Load datasets from GitHub URLs\n",
    "btp_url = \"https://raw.githubusercontent.com/GitAIwithMike/ATC-Models/refs/heads/main/notebooks/BTP.csv\"\n",
    "agc_url = \"https://raw.githubusercontent.com/GitAIwithMike/ATC-Models/refs/heads/main/notebooks/AGC.csv\"\n",
    "weather_stats_url = \"https://raw.githubusercontent.com/GitAIwithMike/ATC-Models/refs/heads/main/notebooks/weather_stats.csv\"\n",
    "\n",
    "btp_data = pd.read_csv(btp_url, low_memory=False)\n",
    "agc_data = pd.read_csv(agc_url, low_memory=False)\n",
    "weather_stats_data = pd.read_csv(weather_stats_url, low_memory=False)\n",
    "\n",
    "# Clean data: Convert 'valid' columns in BTP and AGC datasets to datetime\n",
    "btp_data['valid'] = pd.to_datetime(btp_data['valid'], errors='coerce')\n",
    "agc_data['valid'] = pd.to_datetime(agc_data['valid'], errors='coerce')\n",
    "\n",
    "# Extract and convert datetime from 'video_name' in weather_stats_data\n",
    "weather_stats_data['video_name_datetime'] = weather_stats_data['video_name'].str.split('_').str[1]\n",
    "weather_stats_data['video_name_datetime'] = pd.to_datetime(\n",
    "    weather_stats_data['video_name_datetime'], \n",
    "    format=\"%Y-%m-%d-%H-%M-%S\", \n",
    "    errors='coerce', \n",
    "    utc=True\n",
    ")\n",
    "\n",
    "# Create the 'notebooks' directory if it doesn't exist\n",
    "os.makedirs(\"notebooks\", exist_ok=True)\n",
    "\n",
    "# Save cleaned datasets\n",
    "btp_data.to_csv(\"notebooks/cleaned_BTP.csv\", index=False)\n",
    "agc_data.to_csv(\"notebooks/cleaned_AGC.csv\", index=False)\n",
    "weather_stats_data.to_csv(\"notebooks/cleaned_weather_stats.csv\", index=False)\n",
    "\n",
    "print(\"Data cleaned and saved!\")"
   ]
  },
  {
   "cell_type": "code",
   "execution_count": null,
   "id": "4347e8f6-3b7f-4085-9909-b9808a329e92",
   "metadata": {},
   "outputs": [],
   "source": []
  }
 ],
 "metadata": {
  "kernelspec": {
   "display_name": "Python 3 (ipykernel)",
   "language": "python",
   "name": "python3"
  },
  "language_info": {
   "codemirror_mode": {
    "name": "ipython",
    "version": 3
   },
   "file_extension": ".py",
   "mimetype": "text/x-python",
   "name": "python",
   "nbconvert_exporter": "python",
   "pygments_lexer": "ipython3",
   "version": "3.12.5"
  }
 },
 "nbformat": 4,
 "nbformat_minor": 5
}
